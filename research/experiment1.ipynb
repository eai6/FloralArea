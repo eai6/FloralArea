{
 "cells": [
  {
   "cell_type": "code",
   "execution_count": 1,
   "metadata": {},
   "outputs": [
    {
     "name": "stderr",
     "output_type": "stream",
     "text": [
      "/Users/edwardamoah/Documents/GitHub/FloralArea/venv/lib/python3.9/site-packages/urllib3/__init__.py:35: NotOpenSSLWarning: urllib3 v2 only supports OpenSSL 1.1.1+, currently the 'ssl' module is compiled with 'LibreSSL 2.8.3'. See: https://github.com/urllib3/urllib3/issues/3020\n",
      "  warnings.warn(\n"
     ]
    }
   ],
   "source": [
    "import requests\n",
    "import pandas as pd\n",
    "import numpy as np\n",
    "import os\n",
    "import matplotlib.pyplot as plt\n",
    "import seaborn as sns # data visualization and statistical graphics\n",
    "import sklearn.metrics as metrics # metrics for model evaluation\n",
    "from scipy import stats # statistics"
   ]
  },
  {
   "cell_type": "code",
   "execution_count": 2,
   "metadata": {},
   "outputs": [],
   "source": [
    "files = os.listdir('/Users/edwardamoah/Documents/GitHub/FloralArea/research/data/evaluation_images_experiment_1')\n",
    "files = ['/Users/edwardamoah/Documents/GitHub/FloralArea/research/data/evaluation_images_experiment_1/' + file for file in files]"
   ]
  },
  {
   "cell_type": "code",
   "execution_count": 3,
   "metadata": {},
   "outputs": [
    {
     "name": "stdout",
     "output_type": "stream",
     "text": [
      "/Users/edwardamoah/Documents/GitHub/FloralArea/research/data/evaluation_images_experiment_1/PXL_20240214_172530114_80cm_F6_.jpg\n",
      "/Users/edwardamoah/Documents/GitHub/FloralArea/research/data/evaluation_images_experiment_1/PXL_20240214_173554009_80cm_F11_.jpg\n",
      "/Users/edwardamoah/Documents/GitHub/FloralArea/research/data/evaluation_images_experiment_1/PXL_20240214_175708911_100cm_F23_.jpg\n",
      "/Users/edwardamoah/Documents/GitHub/FloralArea/research/data/evaluation_images_experiment_1/PXL_20240214_175352365_100cm_F21_.jpg\n",
      "/Users/edwardamoah/Documents/GitHub/FloralArea/research/data/evaluation_images_experiment_1/PXL_20240214_174000188_80cm_F13_.jpg\n",
      "/Users/edwardamoah/Documents/GitHub/FloralArea/research/data/evaluation_images_experiment_1/PXL_20240214_175405036_80cm_F21_.jpg\n",
      "/Users/edwardamoah/Documents/GitHub/FloralArea/research/data/evaluation_images_experiment_1/PXL_20240214_175033319_60cm_F18_.jpg\n",
      "/Users/edwardamoah/Documents/GitHub/FloralArea/research/data/evaluation_images_experiment_1/PXL_20240214_173904525_100cm_F13_.jpg\n",
      "/Users/edwardamoah/Documents/GitHub/FloralArea/research/data/evaluation_images_experiment_1/PXL_20240214_173731980_100cm_F12_.jpg\n",
      "/Users/edwardamoah/Documents/GitHub/FloralArea/research/data/evaluation_images_experiment_1/PXL_20240214_172130671_60cm_F4_.jpg\n",
      "/Users/edwardamoah/Documents/GitHub/FloralArea/research/data/evaluation_images_experiment_1/PXL_20240214_174053319_60cm_F13_.jpg\n",
      "/Users/edwardamoah/Documents/GitHub/FloralArea/research/data/evaluation_images_experiment_1/PXL_20240214_174619635_100cm_F15_.jpg\n",
      "/Users/edwardamoah/Documents/GitHub/FloralArea/research/data/evaluation_images_experiment_1/PXL_20240214_175016038_100cm_F18_.jpg\n",
      "/Users/edwardamoah/Documents/GitHub/FloralArea/research/data/evaluation_images_experiment_1/PXL_20240214_175122307_80cm_F19_.jpg\n",
      "/Users/edwardamoah/Documents/GitHub/FloralArea/research/data/evaluation_images_experiment_1/PXL_20240214_174857541_100cm_F17_.jpg\n",
      "/Users/edwardamoah/Documents/GitHub/FloralArea/research/data/evaluation_images_experiment_1/PXL_20240214_172902391_100cm_F7_.jpg\n",
      "/Users/edwardamoah/Documents/GitHub/FloralArea/research/data/evaluation_images_experiment_1/PXL_20240214_171637048_100cm_F1_.jpg\n",
      "/Users/edwardamoah/Documents/GitHub/FloralArea/research/data/evaluation_images_experiment_1/PXL_20240214_172812015_60cm_F7_.jpg\n",
      "/Users/edwardamoah/Documents/GitHub/FloralArea/research/data/evaluation_images_experiment_1/PXL_20240214_172005738_100cm_F3_.jpg\n",
      "/Users/edwardamoah/Documents/GitHub/FloralArea/research/data/evaluation_images_experiment_1/PXL_20240214_171819047_100cm_F2_.jpg\n",
      "/Users/edwardamoah/Documents/GitHub/FloralArea/research/data/evaluation_images_experiment_1/PXL_20240214_175600353_100cm_F22_.jpg\n",
      "/Users/edwardamoah/Documents/GitHub/FloralArea/research/data/evaluation_images_experiment_1/PXL_20240214_173425086_80cm_F10_.jpg\n",
      "/Users/edwardamoah/Documents/GitHub/FloralArea/research/data/evaluation_images_experiment_1/PXL_20240214_175608164_80cm_F22_.jpg\n",
      "/Users/edwardamoah/Documents/GitHub/FloralArea/research/data/evaluation_images_experiment_1/PXL_20240214_174424831_90cm_F14_.jpg\n",
      "/Users/edwardamoah/Documents/GitHub/FloralArea/research/data/evaluation_images_experiment_1/PXL_20240214_174325426_100cm_F14_.jpg\n",
      "/Users/edwardamoah/Documents/GitHub/FloralArea/research/data/evaluation_images_experiment_1/PXL_20240214_171937537_100cm_F3_.jpg\n",
      "/Users/edwardamoah/Documents/GitHub/FloralArea/research/data/evaluation_images_experiment_1/PXL_20240214_172801012_80cm_F7_.jpg\n",
      "/Users/edwardamoah/Documents/GitHub/FloralArea/research/data/evaluation_images_experiment_1/PXL_20240214_173542045_100cm_F11_.jpg\n",
      "/Users/edwardamoah/Documents/GitHub/FloralArea/research/data/evaluation_images_experiment_1/PXL_20240214_174810162_60cm_F16_.jpg\n",
      "/Users/edwardamoah/Documents/GitHub/FloralArea/research/data/evaluation_images_experiment_1/PXL_20240214_171827242_100cm_F2_.jpg\n",
      "/Users/edwardamoah/Documents/GitHub/FloralArea/research/data/evaluation_images_experiment_1/PXL_20240214_173058624_100cm_F8_.jpg\n",
      "/Users/edwardamoah/Documents/GitHub/FloralArea/research/data/evaluation_images_experiment_1/PXL_20240214_173256770_60cm_F9_.jpg\n",
      "/Users/edwardamoah/Documents/GitHub/FloralArea/research/data/evaluation_images_experiment_1/PXL_20240214_175022538_80cm_F18_.jpg\n",
      "/Users/edwardamoah/Documents/GitHub/FloralArea/research/data/evaluation_images_experiment_1/PXL_20240214_173112853_80cm_F8_.jpg\n",
      "/Users/edwardamoah/Documents/GitHub/FloralArea/research/data/evaluation_images_experiment_1/PXL_20240214_173605233_60cm_F11_.jpg\n",
      "/Users/edwardamoah/Documents/GitHub/FloralArea/research/data/evaluation_images_experiment_1/PXL_20240214_173124719_60cm_F8_.jpg\n",
      "/Users/edwardamoah/Documents/GitHub/FloralArea/research/data/evaluation_images_experiment_1/PXL_20240214_174440129_80cm_F14_.jpg\n",
      "/Users/edwardamoah/Documents/GitHub/FloralArea/research/data/evaluation_images_experiment_1/PXL_20240214_173951011_90cm_F13_.jpg\n",
      "/Users/edwardamoah/Documents/GitHub/FloralArea/research/data/evaluation_images_experiment_1/PXL_20240214_172851466_80cm_F7_.jpg\n",
      "/Users/edwardamoah/Documents/GitHub/FloralArea/research/data/evaluation_images_experiment_1/PXL_20240214_175112414_100cm_F19_.jpg\n",
      "/Users/edwardamoah/Documents/GitHub/FloralArea/research/data/evaluation_images_experiment_1/PXL_20240214_173235450_100cm_F9_.jpg\n",
      "/Users/edwardamoah/Documents/GitHub/FloralArea/research/data/evaluation_images_experiment_1/PXL_20240214_172844073_60cm_F7_.jpg\n",
      "/Users/edwardamoah/Documents/GitHub/FloralArea/research/data/evaluation_images_experiment_1/PXL_20240214_172104621_100cm_F4_.jpg\n",
      "/Users/edwardamoah/Documents/GitHub/FloralArea/research/data/evaluation_images_experiment_1/PXL_20240214_172542241_60cm_F6_.jpg\n",
      "/Users/edwardamoah/Documents/GitHub/FloralArea/research/data/evaluation_images_experiment_1/PXL_20240214_174540998_90cm_F15_.jpg\n",
      "/Users/edwardamoah/Documents/GitHub/FloralArea/research/data/evaluation_images_experiment_1/PXL_20240214_173743909_80cm_F12_.jpg\n",
      "/Users/edwardamoah/Documents/GitHub/FloralArea/research/data/evaluation_images_experiment_1/PXL_20240214_175256173_60cm_F20_.jpg\n",
      "/Users/edwardamoah/Documents/GitHub/FloralArea/research/data/evaluation_images_experiment_1/PXL_20240214_175233333_100cm_F20_.jpg\n",
      "/Users/edwardamoah/Documents/GitHub/FloralArea/research/data/evaluation_images_experiment_1/PXL_20240214_175618723_60cm_F22_.jpg\n",
      "/Users/edwardamoah/Documents/GitHub/FloralArea/research/data/evaluation_images_experiment_1/PXL_20240214_174906125_80cm_F17_.jpg\n",
      "/Users/edwardamoah/Documents/GitHub/FloralArea/research/data/evaluation_images_experiment_1/PXL_20240214_175242905_80cm_F20_.jpg\n",
      "/Users/edwardamoah/Documents/GitHub/FloralArea/research/data/evaluation_images_experiment_1/PXL_20240214_171837365_60cm_F2_.jpg\n",
      "/Users/edwardamoah/Documents/GitHub/FloralArea/research/data/evaluation_images_experiment_1/PXL_20240214_174443010_80cm_F14_.jpg\n",
      "/Users/edwardamoah/Documents/GitHub/FloralArea/research/data/evaluation_images_experiment_1/PXL_20240214_171953310_80cm_F3_.jpg\n",
      "/Users/edwardamoah/Documents/GitHub/FloralArea/research/data/evaluation_images_experiment_1/PXL_20240214_173410846_100cm_F10_.jpg\n",
      "/Users/edwardamoah/Documents/GitHub/FloralArea/research/data/evaluation_images_experiment_1/PXL_20240214_172351335_100cm_F5_.jpg\n",
      "/Users/edwardamoah/Documents/GitHub/FloralArea/research/data/evaluation_images_experiment_1/PXL_20240214_173246124_80cm_F9_.jpg\n",
      "/Users/edwardamoah/Documents/GitHub/FloralArea/research/data/evaluation_images_experiment_1/PXL_20240214_171724834_60cm_F1_.jpg\n",
      "/Users/edwardamoah/Documents/GitHub/FloralArea/research/data/evaluation_images_experiment_1/PXL_20240214_175447286_60cm_F21_.jpg\n",
      "/Users/edwardamoah/Documents/GitHub/FloralArea/research/data/evaluation_images_experiment_1/PXL_20240214_175542573_100cm_F22_.jpg\n",
      "/Users/edwardamoah/Documents/GitHub/FloralArea/research/data/evaluation_images_experiment_1/PXL_20240214_172835282_60cm_F7_.jpg\n",
      "/Users/edwardamoah/Documents/GitHub/FloralArea/research/data/evaluation_images_experiment_1/PXL_20240214_174605604_80cm_F15_.jpg\n",
      "/Users/edwardamoah/Documents/GitHub/FloralArea/research/data/evaluation_images_experiment_1/PXL_20240214_173800905_60cm_F12_.jpg\n",
      "/Users/edwardamoah/Documents/GitHub/FloralArea/research/data/evaluation_images_experiment_1/PXL_20240214_175143253_60cm_F19_.jpg\n",
      "/Users/edwardamoah/Documents/GitHub/FloralArea/research/data/evaluation_images_experiment_1/PXL_20240214_171717068_80cm_F1_.jpg\n",
      "/Users/edwardamoah/Documents/GitHub/FloralArea/research/data/evaluation_images_experiment_1/PXL_20240214_174916372_60cm_F17_.jpg\n",
      "/Users/edwardamoah/Documents/GitHub/FloralArea/research/data/evaluation_images_experiment_1/PXL_20240214_173433388_60cm_F10_.jpg\n",
      "/Users/edwardamoah/Documents/GitHub/FloralArea/research/data/evaluation_images_experiment_1/PXL_20240214_174751371_80cm_F16_.jpg\n",
      "/Users/edwardamoah/Documents/GitHub/FloralArea/research/data/evaluation_images_experiment_1/PXL_20240214_172404427_60cm_F5_.jpg\n",
      "/Users/edwardamoah/Documents/GitHub/FloralArea/research/data/evaluation_images_experiment_1/PXL_20240214_172735080_100cm_F7_.jpg\n",
      "/Users/edwardamoah/Documents/GitHub/FloralArea/research/data/evaluation_images_experiment_1/PXL_20240214_172357833_80cm_F5_.jpg\n",
      "/Users/edwardamoah/Documents/GitHub/FloralArea/research/data/evaluation_images_experiment_1/PXL_20240214_173607901_60cm_F11_.jpg\n",
      "/Users/edwardamoah/Documents/GitHub/FloralArea/research/data/evaluation_images_experiment_1/PXL_20240214_174741393_100cm_F16_.jpg\n",
      "/Users/edwardamoah/Documents/GitHub/FloralArea/research/data/evaluation_images_experiment_1/PXL_20240214_172516412_100cm_F6_.jpg\n",
      "/Users/edwardamoah/Documents/GitHub/FloralArea/research/data/evaluation_images_experiment_1/PXL_20240214_172119010_100cm_F4_.jpg\n"
     ]
    }
   ],
   "source": [
    "area = []\n",
    "mask = []\n",
    "filesnames = []\n",
    "for file in files:\n",
    "    try:\n",
    "        print(file)\n",
    "        url = 'http://localhost:8000/estimate_area/flower/0.4'\n",
    "        file = {'uploaded_file': open(file, 'rb')}\n",
    "        response = requests.post(url, files=file)\n",
    "        response = response.json()\n",
    "        area.append(response['area'])\n",
    "        mask.append(response['mask'])\n",
    "        filesnames.append(file)\n",
    "    except:\n",
    "        area.append(np.nan)\n",
    "        mask.append(np.nan)\n",
    "        filesnames.append(file)\n",
    "    \n",
    "    #print(response.json())"
   ]
  },
  {
   "cell_type": "code",
   "execution_count": 4,
   "metadata": {},
   "outputs": [],
   "source": [
    "filename= [file.split('/')[-1] for file in files]\n",
    "df = pd.DataFrame({'area': area, 'mask': mask, 'images': filename})\n",
    "#df.dropna(inplace=True)"
   ]
  },
  {
   "cell_type": "code",
   "execution_count": 5,
   "metadata": {},
   "outputs": [
    {
     "data": {
      "text/html": [
       "<div>\n",
       "<style scoped>\n",
       "    .dataframe tbody tr th:only-of-type {\n",
       "        vertical-align: middle;\n",
       "    }\n",
       "\n",
       "    .dataframe tbody tr th {\n",
       "        vertical-align: top;\n",
       "    }\n",
       "\n",
       "    .dataframe thead th {\n",
       "        text-align: right;\n",
       "    }\n",
       "</style>\n",
       "<table border=\"1\" class=\"dataframe\">\n",
       "  <thead>\n",
       "    <tr style=\"text-align: right;\">\n",
       "      <th></th>\n",
       "      <th>area</th>\n",
       "      <th>mask</th>\n",
       "      <th>images</th>\n",
       "    </tr>\n",
       "  </thead>\n",
       "  <tbody>\n",
       "  </tbody>\n",
       "</table>\n",
       "</div>"
      ],
      "text/plain": [
       "Empty DataFrame\n",
       "Columns: [area, mask, images]\n",
       "Index: []"
      ]
     },
     "execution_count": 5,
     "metadata": {},
     "output_type": "execute_result"
    }
   ],
   "source": [
    "df[df['area'].isnull()]"
   ]
  },
  {
   "cell_type": "code",
   "execution_count": 6,
   "metadata": {},
   "outputs": [
    {
     "data": {
      "text/html": [
       "<div>\n",
       "<style scoped>\n",
       "    .dataframe tbody tr th:only-of-type {\n",
       "        vertical-align: middle;\n",
       "    }\n",
       "\n",
       "    .dataframe tbody tr th {\n",
       "        vertical-align: top;\n",
       "    }\n",
       "\n",
       "    .dataframe thead th {\n",
       "        text-align: right;\n",
       "    }\n",
       "</style>\n",
       "<table border=\"1\" class=\"dataframe\">\n",
       "  <thead>\n",
       "    <tr style=\"text-align: right;\">\n",
       "      <th></th>\n",
       "      <th>images</th>\n",
       "      <th>flower_number</th>\n",
       "      <th>distance</th>\n",
       "      <th>flower_color</th>\n",
       "      <th>imagej_area</th>\n",
       "      <th>morphology</th>\n",
       "      <th>area</th>\n",
       "      <th>mask</th>\n",
       "    </tr>\n",
       "  </thead>\n",
       "  <tbody>\n",
       "    <tr>\n",
       "      <th>0</th>\n",
       "      <td>PXL_20240214_172530114_80cm_F6_.jpg</td>\n",
       "      <td>F6</td>\n",
       "      <td>80cm</td>\n",
       "      <td>T1</td>\n",
       "      <td>7.953</td>\n",
       "      <td>C1</td>\n",
       "      <td>0.000000</td>\n",
       "      <td>api/data/output/flower_0.4_e163a74c-a6a2-4dd5-...</td>\n",
       "    </tr>\n",
       "    <tr>\n",
       "      <th>1</th>\n",
       "      <td>PXL_20240214_173554009_80cm_F11_.jpg</td>\n",
       "      <td>F11</td>\n",
       "      <td>80cm</td>\n",
       "      <td>T5</td>\n",
       "      <td>0.522</td>\n",
       "      <td>C3</td>\n",
       "      <td>0.642129</td>\n",
       "      <td>api/data/output/flower_0.4_cf3c88a8-2680-4fce-...</td>\n",
       "    </tr>\n",
       "    <tr>\n",
       "      <th>2</th>\n",
       "      <td>PXL_20240214_175708911_100cm_F23_.jpg</td>\n",
       "      <td>F23</td>\n",
       "      <td>100cm</td>\n",
       "      <td>T3</td>\n",
       "      <td>5.567</td>\n",
       "      <td>C2</td>\n",
       "      <td>6.557259</td>\n",
       "      <td>api/data/output/flower_0.4_6b74e5f3-0d2b-4456-...</td>\n",
       "    </tr>\n",
       "    <tr>\n",
       "      <th>3</th>\n",
       "      <td>PXL_20240214_175352365_100cm_F21_.jpg</td>\n",
       "      <td>F21</td>\n",
       "      <td>100cm</td>\n",
       "      <td>T2</td>\n",
       "      <td>3.053</td>\n",
       "      <td>C2</td>\n",
       "      <td>3.965035</td>\n",
       "      <td>api/data/output/flower_0.4_8795b233-a853-4d89-...</td>\n",
       "    </tr>\n",
       "    <tr>\n",
       "      <th>4</th>\n",
       "      <td>PXL_20240214_174000188_80cm_F13_.jpg</td>\n",
       "      <td>F13</td>\n",
       "      <td>80cm</td>\n",
       "      <td>T4</td>\n",
       "      <td>20.396</td>\n",
       "      <td>C3</td>\n",
       "      <td>22.130003</td>\n",
       "      <td>api/data/output/flower_0.4_897c1e7a-ea80-4c9c-...</td>\n",
       "    </tr>\n",
       "    <tr>\n",
       "      <th>...</th>\n",
       "      <td>...</td>\n",
       "      <td>...</td>\n",
       "      <td>...</td>\n",
       "      <td>...</td>\n",
       "      <td>...</td>\n",
       "      <td>...</td>\n",
       "      <td>...</td>\n",
       "      <td>...</td>\n",
       "    </tr>\n",
       "    <tr>\n",
       "      <th>70</th>\n",
       "      <td>PXL_20240214_172357833_80cm_F5_.jpg</td>\n",
       "      <td>F5</td>\n",
       "      <td>80cm</td>\n",
       "      <td>T1</td>\n",
       "      <td>2.921</td>\n",
       "      <td>C1</td>\n",
       "      <td>2.117485</td>\n",
       "      <td>api/data/output/flower_0.4_9a7d178f-e2b9-4cc1-...</td>\n",
       "    </tr>\n",
       "    <tr>\n",
       "      <th>71</th>\n",
       "      <td>PXL_20240214_173607901_60cm_F11_.jpg</td>\n",
       "      <td>F11</td>\n",
       "      <td>60cm</td>\n",
       "      <td>T5</td>\n",
       "      <td>0.548</td>\n",
       "      <td>C3</td>\n",
       "      <td>0.585095</td>\n",
       "      <td>api/data/output/flower_0.4_289cb899-7553-4e63-...</td>\n",
       "    </tr>\n",
       "    <tr>\n",
       "      <th>72</th>\n",
       "      <td>PXL_20240214_174741393_100cm_F16_.jpg</td>\n",
       "      <td>F16</td>\n",
       "      <td>100cm</td>\n",
       "      <td>T3</td>\n",
       "      <td>8.464</td>\n",
       "      <td>C2</td>\n",
       "      <td>6.569956</td>\n",
       "      <td>api/data/output/flower_0.4_4235bed7-2885-4ac4-...</td>\n",
       "    </tr>\n",
       "    <tr>\n",
       "      <th>73</th>\n",
       "      <td>PXL_20240214_172516412_100cm_F6_.jpg</td>\n",
       "      <td>F6</td>\n",
       "      <td>100cm</td>\n",
       "      <td>T1</td>\n",
       "      <td>6.500</td>\n",
       "      <td>C1</td>\n",
       "      <td>0.000000</td>\n",
       "      <td>api/data/output/flower_0.4_a6341cc7-e664-4809-...</td>\n",
       "    </tr>\n",
       "    <tr>\n",
       "      <th>74</th>\n",
       "      <td>PXL_20240214_172119010_100cm_F4_.jpg</td>\n",
       "      <td>F4</td>\n",
       "      <td>100cm</td>\n",
       "      <td>T2</td>\n",
       "      <td>8.377</td>\n",
       "      <td>C2</td>\n",
       "      <td>9.229651</td>\n",
       "      <td>api/data/output/flower_0.4_034c7a46-b352-4293-...</td>\n",
       "    </tr>\n",
       "  </tbody>\n",
       "</table>\n",
       "<p>75 rows × 8 columns</p>\n",
       "</div>"
      ],
      "text/plain": [
       "                                   images flower_number distance flower_color  \\\n",
       "0     PXL_20240214_172530114_80cm_F6_.jpg            F6     80cm           T1   \n",
       "1    PXL_20240214_173554009_80cm_F11_.jpg           F11     80cm           T5   \n",
       "2   PXL_20240214_175708911_100cm_F23_.jpg           F23    100cm           T3   \n",
       "3   PXL_20240214_175352365_100cm_F21_.jpg           F21    100cm           T2   \n",
       "4    PXL_20240214_174000188_80cm_F13_.jpg           F13     80cm           T4   \n",
       "..                                    ...           ...      ...          ...   \n",
       "70    PXL_20240214_172357833_80cm_F5_.jpg            F5     80cm           T1   \n",
       "71   PXL_20240214_173607901_60cm_F11_.jpg           F11     60cm           T5   \n",
       "72  PXL_20240214_174741393_100cm_F16_.jpg           F16    100cm           T3   \n",
       "73   PXL_20240214_172516412_100cm_F6_.jpg            F6    100cm           T1   \n",
       "74   PXL_20240214_172119010_100cm_F4_.jpg            F4    100cm           T2   \n",
       "\n",
       "    imagej_area morphology       area  \\\n",
       "0         7.953         C1   0.000000   \n",
       "1         0.522         C3   0.642129   \n",
       "2         5.567         C2   6.557259   \n",
       "3         3.053         C2   3.965035   \n",
       "4        20.396         C3  22.130003   \n",
       "..          ...        ...        ...   \n",
       "70        2.921         C1   2.117485   \n",
       "71        0.548         C3   0.585095   \n",
       "72        8.464         C2   6.569956   \n",
       "73        6.500         C1   0.000000   \n",
       "74        8.377         C2   9.229651   \n",
       "\n",
       "                                                 mask  \n",
       "0   api/data/output/flower_0.4_e163a74c-a6a2-4dd5-...  \n",
       "1   api/data/output/flower_0.4_cf3c88a8-2680-4fce-...  \n",
       "2   api/data/output/flower_0.4_6b74e5f3-0d2b-4456-...  \n",
       "3   api/data/output/flower_0.4_8795b233-a853-4d89-...  \n",
       "4   api/data/output/flower_0.4_897c1e7a-ea80-4c9c-...  \n",
       "..                                                ...  \n",
       "70  api/data/output/flower_0.4_9a7d178f-e2b9-4cc1-...  \n",
       "71  api/data/output/flower_0.4_289cb899-7553-4e63-...  \n",
       "72  api/data/output/flower_0.4_4235bed7-2885-4ac4-...  \n",
       "73  api/data/output/flower_0.4_a6341cc7-e664-4809-...  \n",
       "74  api/data/output/flower_0.4_034c7a46-b352-4293-...  \n",
       "\n",
       "[75 rows x 8 columns]"
      ]
     },
     "execution_count": 6,
     "metadata": {},
     "output_type": "execute_result"
    }
   ],
   "source": [
    "df1 = pd.read_csv('/Users/edwardamoah/Documents/GitHub/FloralArea/research/data/floralarea_experiment_1 - floralarea.csv')\n",
    "df.dropna(inplace=True)\n",
    "df2 = df1[['images', 'flower_number','distance', 'flower_color','imagej_area', 'morphology']].merge(df, on='images')\n",
    "df2"
   ]
  },
  {
   "cell_type": "code",
   "execution_count": 7,
   "metadata": {},
   "outputs": [],
   "source": [
    "# Evaluation \n",
    "df = df2"
   ]
  },
  {
   "cell_type": "code",
   "execution_count": 8,
   "metadata": {},
   "outputs": [],
   "source": [
    "# function to convert inches square to cm square\n",
    "def convert_inch_to_cm(inch):\n",
    "    cm = inch * 6.4516\n",
    "    return cm\n"
   ]
  },
  {
   "cell_type": "code",
   "execution_count": 9,
   "metadata": {},
   "outputs": [],
   "source": [
    "# convert inches area to meters\n",
    "df['area'] = df['area'].apply(convert_inch_to_cm)\n",
    "df['imagej_area'] = df['imagej_area'].apply(convert_inch_to_cm)"
   ]
  },
  {
   "cell_type": "code",
   "execution_count": 10,
   "metadata": {},
   "outputs": [],
   "source": [
    "# filtere columns \n",
    "data = df[['area','flower_number','distance','imagej_area','flower_color','morphology']]\n",
    "\n",
    "# Q4: Other than the method above. What other method can be used to filter columns in a DataFrame?\n",
    "# Q5: What command is used to drop rows with missing values in a DataFrame?\n"
   ]
  },
  {
   "cell_type": "code",
   "execution_count": 11,
   "metadata": {},
   "outputs": [
    {
     "data": {
      "text/html": [
       "<div>\n",
       "<style scoped>\n",
       "    .dataframe tbody tr th:only-of-type {\n",
       "        vertical-align: middle;\n",
       "    }\n",
       "\n",
       "    .dataframe tbody tr th {\n",
       "        vertical-align: top;\n",
       "    }\n",
       "\n",
       "    .dataframe thead th {\n",
       "        text-align: right;\n",
       "    }\n",
       "</style>\n",
       "<table border=\"1\" class=\"dataframe\">\n",
       "  <thead>\n",
       "    <tr style=\"text-align: right;\">\n",
       "      <th></th>\n",
       "      <th>area</th>\n",
       "      <th>imagej_area</th>\n",
       "    </tr>\n",
       "  </thead>\n",
       "  <tbody>\n",
       "    <tr>\n",
       "      <th>count</th>\n",
       "      <td>75.000000</td>\n",
       "      <td>75.000000</td>\n",
       "    </tr>\n",
       "    <tr>\n",
       "      <th>mean</th>\n",
       "      <td>70.936464</td>\n",
       "      <td>68.018101</td>\n",
       "    </tr>\n",
       "    <tr>\n",
       "      <th>std</th>\n",
       "      <td>88.822698</td>\n",
       "      <td>79.437059</td>\n",
       "    </tr>\n",
       "    <tr>\n",
       "      <th>min</th>\n",
       "      <td>0.000000</td>\n",
       "      <td>2.883865</td>\n",
       "    </tr>\n",
       "    <tr>\n",
       "      <th>25%</th>\n",
       "      <td>16.817731</td>\n",
       "      <td>18.767704</td>\n",
       "    </tr>\n",
       "    <tr>\n",
       "      <th>50%</th>\n",
       "      <td>38.811200</td>\n",
       "      <td>38.670890</td>\n",
       "    </tr>\n",
       "    <tr>\n",
       "      <th>75%</th>\n",
       "      <td>94.402226</td>\n",
       "      <td>90.590141</td>\n",
       "    </tr>\n",
       "    <tr>\n",
       "      <th>max</th>\n",
       "      <td>391.864988</td>\n",
       "      <td>359.605732</td>\n",
       "    </tr>\n",
       "  </tbody>\n",
       "</table>\n",
       "</div>"
      ],
      "text/plain": [
       "             area  imagej_area\n",
       "count   75.000000    75.000000\n",
       "mean    70.936464    68.018101\n",
       "std     88.822698    79.437059\n",
       "min      0.000000     2.883865\n",
       "25%     16.817731    18.767704\n",
       "50%     38.811200    38.670890\n",
       "75%     94.402226    90.590141\n",
       "max    391.864988   359.605732"
      ]
     },
     "execution_count": 11,
     "metadata": {},
     "output_type": "execute_result"
    }
   ],
   "source": [
    "# describe (data exploration after cleaning)\n",
    "data.describe()\n",
    "\n",
    "# Q4: What command is used to get the summary statistics of a DataFrame?"
   ]
  },
  {
   "cell_type": "code",
   "execution_count": 12,
   "metadata": {},
   "outputs": [],
   "source": [
    "############### data visualization #############"
   ]
  },
  {
   "cell_type": "code",
   "execution_count": 13,
   "metadata": {},
   "outputs": [],
   "source": [
    "# filter data by distance\n",
    "data_60 = data.query('distance == \"60cm\"')\n",
    "data_80 = data.query('distance == \"80cm\"')\n",
    "data_100 = data.query('distance == \"100cm\"')"
   ]
  },
  {
   "cell_type": "code",
   "execution_count": 14,
   "metadata": {},
   "outputs": [],
   "source": [
    "# Fit a polynomial regression line\n",
    "coefficients_60 = np.polyfit(data_60['imagej_area'], data_60['area'], 1)\n",
    "poly_line_60 = np.poly1d(coefficients_60)\n",
    "\n",
    "coefficients_80 = np.polyfit(data_80['imagej_area'], data_80['area'], 1)\n",
    "poly_line_80 = np.poly1d(coefficients_80)\n",
    "\n",
    "coefficients_100 = np.polyfit(data_100['imagej_area'], data_100['area'], 1)\n",
    "poly_line_100 = np.poly1d(coefficients_100)\n",
    "\n",
    "coefficients = np.polyfit(data['imagej_area'], data['area'], 1)\n",
    "poly_line = np.poly1d(coefficients)"
   ]
  },
  {
   "cell_type": "code",
   "execution_count": 15,
   "metadata": {},
   "outputs": [
    {
     "data": {
      "text/plain": [
       "Text(0.3, 0.75, '(n=75),\\ny = 1.11x + -4.44, \\nr-square: 0.98')"
      ]
     },
     "execution_count": 15,
     "metadata": {},
     "output_type": "execute_result"
    },
    {
     "data": {
      "image/png": "[encoded data removed]",
      "text/plain": [
       "<Figure size 800x600 with 1 Axes>"
      ]
     },
     "metadata": {},
     "output_type": "display_data"
    }
   ],
   "source": [
    "# set the size of the plot\n",
    "plt.figure(figsize=(8, 6))\n",
    "plt.xlabel('Measured Area $\\\\left( cm^2 \\\\right)$')\n",
    "plt.ylabel('Predicted Area $\\\\left( cm^2 \\\\right)$')\n",
    "plt.title('Predicted vs Measured Area')\n",
    "\n",
    "\n",
    "plt.plot(data['imagej_area'], data['area'], 'o', color='black') # plot the data\n",
    "plt.plot([0,50,100,150,200,250,300,350], [0,50,100,150,200,250,300,350], 'k--')\n",
    "#plt.plot(data_60['imagej_area'], poly_line_60(data_60['imagej_area']), color='red')\n",
    "#plt.plot(data_80['imagej_area'], poly_line_80(data_80['imagej_area']), color='green')\n",
    "#plt.plot(data_100['imagej_area'], poly_line_100(data_100['imagej_area']), color='blue')\n",
    "plt.plot(data['imagej_area'], poly_line(data['imagej_area']))\n",
    "\n",
    "\n",
    "'''\n",
    "# Add equation of the line to the plot\n",
    "equation = f\"y = {coefficients_60[0]:.2f}x + {coefficients_60[1]:.2f}\"\n",
    "r2 = metrics.r2_score(data_60['area'], poly_line_60(data_60['imagej_area']))\n",
    "text_60 = f\"60cm (n={len(data_60)}) : {equation}, R2: {r2:.2f}\"\n",
    "plt.text(0.3, 0.95, text_60, ha='center', va='center', transform=plt.gca().transAxes, color='red')\n",
    "\n",
    "# Add equation of the line to the plot\n",
    "equation = f\"y = {coefficients_80[0]:.2f}x + {coefficients_80[1]:.2f}\"\n",
    "r2 = metrics.r2_score(data_80['area'], poly_line_80(data_80['imagej_area']))\n",
    "text_80 = f\"80cm (n={len(data_80)}) : {equation}, R2: {r2:.2f}\"\n",
    "plt.text(0.3, 0.85, text_80, ha='center', va='center', transform=plt.gca().transAxes, color='green')\n",
    "\n",
    "# Add equation of the line to the plot\n",
    "equation = f\"y = {coefficients_100[0]:.2f}x + {coefficients_100[1]:.2f}\"\n",
    "r2 = metrics.r2_score(data_100['area'], poly_line_100(data_100['imagej_area']))\n",
    "text_100 = f\"100cm (n={len(data_100)}) : {equation}, R2: {r2:.2f}\"\n",
    "plt.text(0.3, 0.75, text_100, ha='center', va='center', transform=plt.gca().transAxes, color='blue')\n",
    "'''\n",
    "\n",
    "# Add equation of the line to the plot\n",
    "equation = f\"y = {coefficients[0]:.2f}x + {coefficients[1]:.2f}\"\n",
    "r2 = metrics.r2_score(data['area'], poly_line(data['imagej_area']))\n",
    "text_all = f\"(n={len(data)}),\\n{equation}, \\nr-square: {r2:.2f}\"\n",
    "plt.text(0.3, 0.75, text_all, ha='center', va='center', transform=plt.gca().transAxes, color='black')\n"
   ]
  },
  {
   "cell_type": "code",
   "execution_count": 16,
   "metadata": {},
   "outputs": [
    {
     "name": "stderr",
     "output_type": "stream",
     "text": [
      "/var/folders/r5/48dgr3g12qg3cwmg9f6v0cwc0000gn/T/ipykernel_74021/2060323613.py:2: SettingWithCopyWarning: \n",
      "A value is trying to be set on a copy of a slice from a DataFrame.\n",
      "Try using .loc[row_indexer,col_indexer] = value instead\n",
      "\n",
      "See the caveats in the documentation: https://pandas.pydata.org/pandas-docs/stable/user_guide/indexing.html#returning-a-view-versus-a-copy\n",
      "  data['abs_diff'] = abs(data['imagej_area'] - data['area'])\n"
     ]
    }
   ],
   "source": [
    "# absolute difference\n",
    "data['abs_diff'] = abs(data['imagej_area'] - data['area'])\n",
    "data['diff'] = data['imagej_area'] - data['area']"
   ]
  },
  {
   "cell_type": "code",
   "execution_count": 17,
   "metadata": {},
   "outputs": [
    {
     "data": {
      "text/html": [
       "<div>\n",
       "<style scoped>\n",
       "    .dataframe tbody tr th:only-of-type {\n",
       "        vertical-align: middle;\n",
       "    }\n",
       "\n",
       "    .dataframe tbody tr th {\n",
       "        vertical-align: top;\n",
       "    }\n",
       "\n",
       "    .dataframe thead th {\n",
       "        text-align: right;\n",
       "    }\n",
       "</style>\n",
       "<table border=\"1\" class=\"dataframe\">\n",
       "  <thead>\n",
       "    <tr style=\"text-align: right;\">\n",
       "      <th></th>\n",
       "      <th>imagej_area</th>\n",
       "      <th>area</th>\n",
       "      <th>abs_diff</th>\n",
       "      <th>diff</th>\n",
       "    </tr>\n",
       "    <tr>\n",
       "      <th>flower_color</th>\n",
       "      <th></th>\n",
       "      <th></th>\n",
       "      <th></th>\n",
       "      <th></th>\n",
       "    </tr>\n",
       "  </thead>\n",
       "  <tbody>\n",
       "    <tr>\n",
       "      <th>T1</th>\n",
       "      <td>18</td>\n",
       "      <td>18</td>\n",
       "      <td>18</td>\n",
       "      <td>18</td>\n",
       "    </tr>\n",
       "    <tr>\n",
       "      <th>T2</th>\n",
       "      <td>15</td>\n",
       "      <td>15</td>\n",
       "      <td>15</td>\n",
       "      <td>15</td>\n",
       "    </tr>\n",
       "    <tr>\n",
       "      <th>T3</th>\n",
       "      <td>21</td>\n",
       "      <td>21</td>\n",
       "      <td>21</td>\n",
       "      <td>21</td>\n",
       "    </tr>\n",
       "    <tr>\n",
       "      <th>T4</th>\n",
       "      <td>17</td>\n",
       "      <td>17</td>\n",
       "      <td>17</td>\n",
       "      <td>17</td>\n",
       "    </tr>\n",
       "    <tr>\n",
       "      <th>T5</th>\n",
       "      <td>4</td>\n",
       "      <td>4</td>\n",
       "      <td>4</td>\n",
       "      <td>4</td>\n",
       "    </tr>\n",
       "  </tbody>\n",
       "</table>\n",
       "</div>"
      ],
      "text/plain": [
       "              imagej_area  area  abs_diff  diff\n",
       "flower_color                                   \n",
       "T1                     18    18        18    18\n",
       "T2                     15    15        15    15\n",
       "T3                     21    21        21    21\n",
       "T4                     17    17        17    17\n",
       "T5                      4     4         4     4"
      ]
     },
     "execution_count": 17,
     "metadata": {},
     "output_type": "execute_result"
    }
   ],
   "source": [
    "# categorize data by flwoer color\n",
    "data[[\"flower_color\", \"imagej_area\", \"area\", \"abs_diff\", \"diff\"]].groupby(\"flower_color\").count() \n",
    "# you can use count, mean, sum, etc."
   ]
  },
  {
   "cell_type": "code",
   "execution_count": 18,
   "metadata": {},
   "outputs": [],
   "source": [
    "# filter data by flower color\n",
    "data_t1 = data.query('flower_color == \"T1\"')\n",
    "data_t2 = data.query('flower_color == \"T2\"')\n",
    "data_t3 = data.query('flower_color == \"T3\"')\n",
    "data_t4 = data.query('flower_color == \"T4\"')\n",
    "data_t5 = data.query('flower_color == \"T5\"')"
   ]
  },
  {
   "cell_type": "code",
   "execution_count": 19,
   "metadata": {},
   "outputs": [
    {
     "data": {
      "text/plain": [
       "([<matplotlib.axis.XTick at 0x17efa43d0>,\n",
       "  <matplotlib.axis.XTick at 0x17efa43a0>,\n",
       "  <matplotlib.axis.XTick at 0x106a46c40>,\n",
       "  <matplotlib.axis.XTick at 0x17efd5940>,\n",
       "  <matplotlib.axis.XTick at 0x17f0392e0>],\n",
       " [Text(0, 0, 'T1(n=18)'),\n",
       "  Text(1, 0, 'T2(n=15)'),\n",
       "  Text(2, 0, 'T3(n=21)'),\n",
       "  Text(3, 0, 'T4(n=17)'),\n",
       "  Text(4, 0, 'T5(n=4)')])"
      ]
     },
     "execution_count": 19,
     "metadata": {},
     "output_type": "execute_result"
    },
    {
     "data": {
      "image/png": "[encoded data removed]",
      "text/plain": [
       "<Figure size 640x480 with 1 Axes>"
      ]
     },
     "metadata": {},
     "output_type": "display_data"
    }
   ],
   "source": [
    "sns.boxplot(x='flower_color', y='diff', data=data, order=['T1', 'T2', 'T3', 'T4', 'T5'])\n",
    "plt.title('Boxplot of Error by Flower Color')\n",
    "plt.xlabel('Flower Color')\n",
    "plt.ylabel('Error $\\\\left( cm^2 \\\\right)$')\n",
    "plt.xticks([0,1,2,3,4], [f'T1(n={len(data_t1)})', f'T2(n={len(data_t2)})', f'T3(n={len(data_t3)})', f'T4(n={len(data_t4)})', f'T5(n={len(data_t5)})'])"
   ]
  },
  {
   "cell_type": "code",
   "execution_count": 20,
   "metadata": {},
   "outputs": [
    {
     "name": "stdout",
     "output_type": "stream",
     "text": [
      "ANOVA Test Result:\n",
      "F-value: 8.42008698727567\n",
      "p-value: 1.3225563558685649e-05\n"
     ]
    }
   ],
   "source": [
    "#https://www.statology.org/null-hypothesis-for-anova/\n",
    "\n",
    "# Read about anova testing above\n",
    "\n",
    "# Perform ANOVA test\n",
    "result = stats.f_oneway(data[data['flower_color'] == 'T1']['diff'],\n",
    "                        data[data['flower_color'] == 'T2']['diff'],\n",
    "                        data[data['flower_color'] == 'T3']['diff'],\n",
    "                        data[data['flower_color'] == 'T4']['diff'],\n",
    "                        data[data['flower_color'] == 'T5']['diff'])\n",
    "\n",
    "# Print the ANOVA test result\n",
    "print(\"ANOVA Test Result:\")\n",
    "print(\"F-value:\", result.statistic)\n",
    "print(\"p-value:\", result.pvalue)"
   ]
  },
  {
   "cell_type": "code",
   "execution_count": 21,
   "metadata": {},
   "outputs": [],
   "source": [
    "## categorize by distance"
   ]
  },
  {
   "cell_type": "code",
   "execution_count": 22,
   "metadata": {},
   "outputs": [
    {
     "data": {
      "text/html": [
       "<div>\n",
       "<style scoped>\n",
       "    .dataframe tbody tr th:only-of-type {\n",
       "        vertical-align: middle;\n",
       "    }\n",
       "\n",
       "    .dataframe tbody tr th {\n",
       "        vertical-align: top;\n",
       "    }\n",
       "\n",
       "    .dataframe thead th {\n",
       "        text-align: right;\n",
       "    }\n",
       "</style>\n",
       "<table border=\"1\" class=\"dataframe\">\n",
       "  <thead>\n",
       "    <tr style=\"text-align: right;\">\n",
       "      <th></th>\n",
       "      <th>imagej_area</th>\n",
       "      <th>area</th>\n",
       "      <th>abs_diff</th>\n",
       "      <th>diff</th>\n",
       "    </tr>\n",
       "    <tr>\n",
       "      <th>distance</th>\n",
       "      <th></th>\n",
       "      <th></th>\n",
       "      <th></th>\n",
       "      <th></th>\n",
       "    </tr>\n",
       "  </thead>\n",
       "  <tbody>\n",
       "    <tr>\n",
       "      <th>100cm</th>\n",
       "      <td>27</td>\n",
       "      <td>27</td>\n",
       "      <td>27</td>\n",
       "      <td>27</td>\n",
       "    </tr>\n",
       "    <tr>\n",
       "      <th>60cm</th>\n",
       "      <td>22</td>\n",
       "      <td>22</td>\n",
       "      <td>22</td>\n",
       "      <td>22</td>\n",
       "    </tr>\n",
       "    <tr>\n",
       "      <th>80cm</th>\n",
       "      <td>23</td>\n",
       "      <td>23</td>\n",
       "      <td>23</td>\n",
       "      <td>23</td>\n",
       "    </tr>\n",
       "    <tr>\n",
       "      <th>90cm</th>\n",
       "      <td>3</td>\n",
       "      <td>3</td>\n",
       "      <td>3</td>\n",
       "      <td>3</td>\n",
       "    </tr>\n",
       "  </tbody>\n",
       "</table>\n",
       "</div>"
      ],
      "text/plain": [
       "          imagej_area  area  abs_diff  diff\n",
       "distance                                   \n",
       "100cm              27    27        27    27\n",
       "60cm               22    22        22    22\n",
       "80cm               23    23        23    23\n",
       "90cm                3     3         3     3"
      ]
     },
     "execution_count": 22,
     "metadata": {},
     "output_type": "execute_result"
    }
   ],
   "source": [
    "data[[\"distance\", \"imagej_area\", \"area\", \"abs_diff\", \"diff\"]].groupby(\"distance\").count()"
   ]
  },
  {
   "cell_type": "code",
   "execution_count": 23,
   "metadata": {},
   "outputs": [],
   "source": [
    "# filter data for distance anlysis\n",
    "data_60 = data.query('distance == \"60cm\"')\n",
    "data_80 = data.query('distance == \"80cm\"')\n",
    "data_100 = data.query('distance == \"100cm\"')"
   ]
  },
  {
   "cell_type": "code",
   "execution_count": 24,
   "metadata": {},
   "outputs": [
    {
     "data": {
      "text/plain": [
       "([<matplotlib.axis.XTick at 0x17f08d880>,\n",
       "  <matplotlib.axis.XTick at 0x17f08d850>,\n",
       "  <matplotlib.axis.XTick at 0x17ed37460>],\n",
       " [Text(0, 0, '60cm (n=22)'),\n",
       "  Text(1, 0, '80cm (n=23)'),\n",
       "  Text(2, 0, '100cm (n=27)')])"
      ]
     },
     "execution_count": 24,
     "metadata": {},
     "output_type": "execute_result"
    },
    {
     "data": {
      "image/png": "[encoded data removed]",
      "text/plain": [
       "<Figure size 640x480 with 1 Axes>"
      ]
     },
     "metadata": {},
     "output_type": "display_data"
    }
   ],
   "source": [
    "sns.boxplot(x='distance', y='diff', data=data, order=['60cm', '80cm', '100cm'])\n",
    "plt.title('Boxplot of Error by Distance')\n",
    "plt.xlabel('Distance to ground (cm)')\n",
    "plt.ylabel('Error $\\\\left( cm^2 \\\\right)$')\n",
    "plt.xticks([0,1,2], [f'60cm (n={len(data_60)})', f'80cm (n={len(data_80)})', f'100cm (n={len(data_100)})'])"
   ]
  },
  {
   "cell_type": "code",
   "execution_count": 25,
   "metadata": {},
   "outputs": [
    {
     "name": "stdout",
     "output_type": "stream",
     "text": [
      "ANOVA Test Result:\n",
      "F-value: 1.3090110948018263\n",
      "p-value: 0.2767091216716744\n"
     ]
    }
   ],
   "source": [
    "#https://www.statology.org/null-hypothesis-for-anova/\n",
    "\n",
    "# Read about anova testing above\n",
    "\n",
    "# Perform ANOVA test\n",
    "result = stats.f_oneway(data_60[\"diff\"], data_80[\"diff\"], data_100[\"diff\"])\n",
    "\n",
    "# Print the ANOVA test result\n",
    "print(\"ANOVA Test Result:\")\n",
    "print(\"F-value:\", result.statistic)\n",
    "print(\"p-value:\", result.pvalue)"
   ]
  },
  {
   "cell_type": "code",
   "execution_count": 26,
   "metadata": {},
   "outputs": [],
   "source": [
    "### categorize by morphology"
   ]
  },
  {
   "cell_type": "code",
   "execution_count": 27,
   "metadata": {},
   "outputs": [
    {
     "data": {
      "text/html": [
       "<div>\n",
       "<style scoped>\n",
       "    .dataframe tbody tr th:only-of-type {\n",
       "        vertical-align: middle;\n",
       "    }\n",
       "\n",
       "    .dataframe tbody tr th {\n",
       "        vertical-align: top;\n",
       "    }\n",
       "\n",
       "    .dataframe thead th {\n",
       "        text-align: right;\n",
       "    }\n",
       "</style>\n",
       "<table border=\"1\" class=\"dataframe\">\n",
       "  <thead>\n",
       "    <tr style=\"text-align: right;\">\n",
       "      <th></th>\n",
       "      <th>imagej_area</th>\n",
       "      <th>area</th>\n",
       "      <th>abs_diff</th>\n",
       "      <th>diff</th>\n",
       "    </tr>\n",
       "    <tr>\n",
       "      <th>morphology</th>\n",
       "      <th></th>\n",
       "      <th></th>\n",
       "      <th></th>\n",
       "      <th></th>\n",
       "    </tr>\n",
       "  </thead>\n",
       "  <tbody>\n",
       "    <tr>\n",
       "      <th>C1</th>\n",
       "      <td>18</td>\n",
       "      <td>18</td>\n",
       "      <td>18</td>\n",
       "      <td>18</td>\n",
       "    </tr>\n",
       "    <tr>\n",
       "      <th>C2</th>\n",
       "      <td>36</td>\n",
       "      <td>36</td>\n",
       "      <td>36</td>\n",
       "      <td>36</td>\n",
       "    </tr>\n",
       "    <tr>\n",
       "      <th>C3</th>\n",
       "      <td>21</td>\n",
       "      <td>21</td>\n",
       "      <td>21</td>\n",
       "      <td>21</td>\n",
       "    </tr>\n",
       "  </tbody>\n",
       "</table>\n",
       "</div>"
      ],
      "text/plain": [
       "            imagej_area  area  abs_diff  diff\n",
       "morphology                                   \n",
       "C1                   18    18        18    18\n",
       "C2                   36    36        36    36\n",
       "C3                   21    21        21    21"
      ]
     },
     "execution_count": 27,
     "metadata": {},
     "output_type": "execute_result"
    }
   ],
   "source": [
    "data[[\"morphology\", \"imagej_area\", \"area\", \"abs_diff\", \"diff\"]].groupby(\"morphology\").count()"
   ]
  },
  {
   "cell_type": "code",
   "execution_count": 28,
   "metadata": {},
   "outputs": [],
   "source": [
    "# filter data for morphology analysis\n",
    "data_c1 = data.query('morphology == \"C1\"')\n",
    "data_c2 = data.query('morphology == \"C2\"')\n",
    "data_c3 = data.query('morphology == \"C3\"')"
   ]
  },
  {
   "cell_type": "code",
   "execution_count": 29,
   "metadata": {},
   "outputs": [
    {
     "data": {
      "text/plain": [
       "([<matplotlib.axis.XTick at 0x17f130340>,\n",
       "  <matplotlib.axis.XTick at 0x17f1302e0>,\n",
       "  <matplotlib.axis.XTick at 0x17f127b50>],\n",
       " [Text(0, 0, 'C1 (n=18)'), Text(1, 0, 'C2 (n=36)'), Text(2, 0, 'C3 (n=21)')])"
      ]
     },
     "execution_count": 29,
     "metadata": {},
     "output_type": "execute_result"
    },
    {
     "data": {
      "image/png": "[encoded data removed]",
      "text/plain": [
       "<Figure size 640x480 with 1 Axes>"
      ]
     },
     "metadata": {},
     "output_type": "display_data"
    }
   ],
   "source": [
    "sns.boxplot(x='morphology', y='diff', data=data, order=['C1', 'C2', 'C3'])\n",
    "plt.title('Boxplot of Error by Morphology')\n",
    "plt.xlabel('Morphology')\n",
    "plt.ylabel('Error $\\\\left( cm^2 \\\\right)$')\n",
    "plt.xticks([0,1,2], [f'C1 (n={len(data_c1)})', f'C2 (n={len(data_c2)})', f'C3 (n={len(data_c3)})'])"
   ]
  },
  {
   "cell_type": "code",
   "execution_count": 30,
   "metadata": {},
   "outputs": [
    {
     "name": "stdout",
     "output_type": "stream",
     "text": [
      "ANOVA Test Result:\n",
      "F-value: 13.38485598312751\n",
      "p-value: 1.141598868496954e-05\n"
     ]
    }
   ],
   "source": [
    "#https://www.statology.org/null-hypothesis-for-anova/\n",
    "\n",
    "# Read about anova testing above\n",
    "\n",
    "# Perform ANOVA test\n",
    "result = stats.f_oneway(data_c1[\"diff\"], data_c2[\"diff\"], data_c3[\"diff\"])\n",
    "\n",
    "# Print the ANOVA test result\n",
    "print(\"ANOVA Test Result:\")\n",
    "print(\"F-value:\", result.statistic)\n",
    "print(\"p-value:\", result.pvalue)"
   ]
  },
  {
   "cell_type": "code",
   "execution_count": 31,
   "metadata": {},
   "outputs": [],
   "source": [
    "########### further further evaluation ###########\n",
    "\n",
    "# check if there is any statistical difference between the predicted floral area by distance (60cm, 80cm, 100cm)"
   ]
  },
  {
   "cell_type": "code",
   "execution_count": 32,
   "metadata": {},
   "outputs": [
    {
     "data": {
      "text/html": [
       "<div>\n",
       "<style scoped>\n",
       "    .dataframe tbody tr th:only-of-type {\n",
       "        vertical-align: middle;\n",
       "    }\n",
       "\n",
       "    .dataframe tbody tr th {\n",
       "        vertical-align: top;\n",
       "    }\n",
       "\n",
       "    .dataframe thead th {\n",
       "        text-align: right;\n",
       "    }\n",
       "</style>\n",
       "<table border=\"1\" class=\"dataframe\">\n",
       "  <thead>\n",
       "    <tr style=\"text-align: right;\">\n",
       "      <th></th>\n",
       "      <th>area</th>\n",
       "      <th>flower_number</th>\n",
       "      <th>distance</th>\n",
       "      <th>imagej_area</th>\n",
       "      <th>flower_color</th>\n",
       "      <th>morphology</th>\n",
       "      <th>abs_diff</th>\n",
       "      <th>diff</th>\n",
       "    </tr>\n",
       "  </thead>\n",
       "  <tbody>\n",
       "    <tr>\n",
       "      <th>0</th>\n",
       "      <td>0.000000</td>\n",
       "      <td>F6</td>\n",
       "      <td>80cm</td>\n",
       "      <td>51.309575</td>\n",
       "      <td>T1</td>\n",
       "      <td>C1</td>\n",
       "      <td>51.309575</td>\n",
       "      <td>51.309575</td>\n",
       "    </tr>\n",
       "    <tr>\n",
       "      <th>1</th>\n",
       "      <td>4.142760</td>\n",
       "      <td>F11</td>\n",
       "      <td>80cm</td>\n",
       "      <td>3.367735</td>\n",
       "      <td>T5</td>\n",
       "      <td>C3</td>\n",
       "      <td>0.775025</td>\n",
       "      <td>-0.775025</td>\n",
       "    </tr>\n",
       "    <tr>\n",
       "      <th>3</th>\n",
       "      <td>25.580820</td>\n",
       "      <td>F21</td>\n",
       "      <td>100cm</td>\n",
       "      <td>19.696735</td>\n",
       "      <td>T2</td>\n",
       "      <td>C2</td>\n",
       "      <td>5.884085</td>\n",
       "      <td>-5.884085</td>\n",
       "    </tr>\n",
       "    <tr>\n",
       "      <th>4</th>\n",
       "      <td>142.773928</td>\n",
       "      <td>F13</td>\n",
       "      <td>80cm</td>\n",
       "      <td>131.586834</td>\n",
       "      <td>T4</td>\n",
       "      <td>C3</td>\n",
       "      <td>11.187094</td>\n",
       "      <td>-11.187094</td>\n",
       "    </tr>\n",
       "    <tr>\n",
       "      <th>5</th>\n",
       "      <td>23.594120</td>\n",
       "      <td>F21</td>\n",
       "      <td>80cm</td>\n",
       "      <td>20.451572</td>\n",
       "      <td>T2</td>\n",
       "      <td>C2</td>\n",
       "      <td>3.142548</td>\n",
       "      <td>-3.142548</td>\n",
       "    </tr>\n",
       "  </tbody>\n",
       "</table>\n",
       "</div>"
      ],
      "text/plain": [
       "         area flower_number distance  imagej_area flower_color morphology  \\\n",
       "0    0.000000            F6     80cm    51.309575           T1         C1   \n",
       "1    4.142760           F11     80cm     3.367735           T5         C3   \n",
       "3   25.580820           F21    100cm    19.696735           T2         C2   \n",
       "4  142.773928           F13     80cm   131.586834           T4         C3   \n",
       "5   23.594120           F21     80cm    20.451572           T2         C2   \n",
       "\n",
       "    abs_diff       diff  \n",
       "0  51.309575  51.309575  \n",
       "1   0.775025  -0.775025  \n",
       "3   5.884085  -5.884085  \n",
       "4  11.187094 -11.187094  \n",
       "5   3.142548  -3.142548  "
      ]
     },
     "execution_count": 32,
     "metadata": {},
     "output_type": "execute_result"
    }
   ],
   "source": [
    "# remove flowers that does not have measurements in 60, 80, and 100 cm\n",
    "data1= data[data['flower_number'] != 'F23']\n",
    "data1 = data1[data1['distance'] != '90cm']\n",
    "data1.head()"
   ]
  },
  {
   "cell_type": "code",
   "execution_count": 33,
   "metadata": {},
   "outputs": [
    {
     "data": {
      "text/plain": [
       "<Axes: ylabel='diff'>"
      ]
     },
     "execution_count": 33,
     "metadata": {},
     "output_type": "execute_result"
    },
    {
     "data": {
      "image/png": "[encoded data removed]",
      "text/plain": [
       "<Figure size 640x480 with 1 Axes>"
      ]
     },
     "metadata": {},
     "output_type": "display_data"
    }
   ],
   "source": [
    "# detect and remove outliers\n",
    "from scipy import stats\n",
    "# Calculate z-scores for the 'diff' column\n",
    "z_scores = stats.zscore(data1['diff'])\n",
    "\n",
    "# Define a threshold for outlier detection\n",
    "threshold = 3\n",
    "\n",
    "# Filter out the outliers\n",
    "data2 = data1[(z_scores < threshold)]\n",
    "\n",
    "# Plot the boxplot without outliers\n",
    "sns.boxplot(y='diff', data=data2)\n"
   ]
  },
  {
   "cell_type": "code",
   "execution_count": 34,
   "metadata": {},
   "outputs": [],
   "source": [
    "# \n",
    "data3 = data2.query('distance == \"80cm\"')[[\"flower_number\",\"area\",\"imagej_area\"]]"
   ]
  },
  {
   "cell_type": "code",
   "execution_count": 35,
   "metadata": {},
   "outputs": [],
   "source": [
    "flower_numbers = data3[\"flower_number\"].unique().tolist()\n",
    "#flower_numbers"
   ]
  },
  {
   "cell_type": "code",
   "execution_count": 36,
   "metadata": {},
   "outputs": [],
   "source": [
    "flower_dicts = {}\n",
    "for flower in flower_numbers:\n",
    "    flower_temp = flower\n",
    "    flower_dicts[flower] = np.mean(data3.query(f'flower_number == \"{flower_temp}\"')[\"imagej_area\"].tolist())\n",
    "\n",
    "#flower_temp = flower_numbers[0]\n",
    "#fa = np.mean(data2.query(f'flower_number == \"{flower_temp}\"')[\"imagej_area\"].tolist())"
   ]
  },
  {
   "cell_type": "code",
   "execution_count": 37,
   "metadata": {},
   "outputs": [],
   "source": [
    "def getDiff(flower_area, flower_number):\n",
    "    try:\n",
    "        return flower_area - flower_dicts[flower_number]\n",
    "    except:\n",
    "        return \"unknown\""
   ]
  },
  {
   "cell_type": "code",
   "execution_count": 38,
   "metadata": {},
   "outputs": [
    {
     "name": "stderr",
     "output_type": "stream",
     "text": [
      "/var/folders/r5/48dgr3g12qg3cwmg9f6v0cwc0000gn/T/ipykernel_74021/3489814563.py:1: SettingWithCopyWarning: \n",
      "A value is trying to be set on a copy of a slice from a DataFrame.\n",
      "Try using .loc[row_indexer,col_indexer] = value instead\n",
      "\n",
      "See the caveats in the documentation: https://pandas.pydata.org/pandas-docs/stable/user_guide/indexing.html#returning-a-view-versus-a-copy\n",
      "  data2['flower_diff'] = data2.apply(lambda x: getDiff(x['area'], x['flower_number']), axis=1)\n"
     ]
    }
   ],
   "source": [
    "data2['flower_diff'] = data2.apply(lambda x: getDiff(x['area'], x['flower_number']), axis=1)"
   ]
  },
  {
   "cell_type": "code",
   "execution_count": 39,
   "metadata": {},
   "outputs": [
    {
     "data": {
      "text/html": [
       "<div>\n",
       "<style scoped>\n",
       "    .dataframe tbody tr th:only-of-type {\n",
       "        vertical-align: middle;\n",
       "    }\n",
       "\n",
       "    .dataframe tbody tr th {\n",
       "        vertical-align: top;\n",
       "    }\n",
       "\n",
       "    .dataframe thead th {\n",
       "        text-align: right;\n",
       "    }\n",
       "</style>\n",
       "<table border=\"1\" class=\"dataframe\">\n",
       "  <thead>\n",
       "    <tr style=\"text-align: right;\">\n",
       "      <th></th>\n",
       "      <th>area</th>\n",
       "      <th>flower_number</th>\n",
       "      <th>distance</th>\n",
       "      <th>imagej_area</th>\n",
       "      <th>flower_color</th>\n",
       "      <th>morphology</th>\n",
       "      <th>abs_diff</th>\n",
       "      <th>diff</th>\n",
       "      <th>flower_diff</th>\n",
       "    </tr>\n",
       "  </thead>\n",
       "  <tbody>\n",
       "    <tr>\n",
       "      <th>1</th>\n",
       "      <td>4.142760</td>\n",
       "      <td>F11</td>\n",
       "      <td>80cm</td>\n",
       "      <td>3.367735</td>\n",
       "      <td>T5</td>\n",
       "      <td>C3</td>\n",
       "      <td>0.775025</td>\n",
       "      <td>-0.775025</td>\n",
       "      <td>0.775025</td>\n",
       "    </tr>\n",
       "    <tr>\n",
       "      <th>3</th>\n",
       "      <td>25.580820</td>\n",
       "      <td>F21</td>\n",
       "      <td>100cm</td>\n",
       "      <td>19.696735</td>\n",
       "      <td>T2</td>\n",
       "      <td>C2</td>\n",
       "      <td>5.884085</td>\n",
       "      <td>-5.884085</td>\n",
       "      <td>5.129248</td>\n",
       "    </tr>\n",
       "    <tr>\n",
       "      <th>4</th>\n",
       "      <td>142.773928</td>\n",
       "      <td>F13</td>\n",
       "      <td>80cm</td>\n",
       "      <td>131.586834</td>\n",
       "      <td>T4</td>\n",
       "      <td>C3</td>\n",
       "      <td>11.187094</td>\n",
       "      <td>-11.187094</td>\n",
       "      <td>11.187094</td>\n",
       "    </tr>\n",
       "    <tr>\n",
       "      <th>5</th>\n",
       "      <td>23.594120</td>\n",
       "      <td>F21</td>\n",
       "      <td>80cm</td>\n",
       "      <td>20.451572</td>\n",
       "      <td>T2</td>\n",
       "      <td>C2</td>\n",
       "      <td>3.142548</td>\n",
       "      <td>-3.142548</td>\n",
       "      <td>3.142548</td>\n",
       "    </tr>\n",
       "    <tr>\n",
       "      <th>6</th>\n",
       "      <td>39.048547</td>\n",
       "      <td>F18</td>\n",
       "      <td>60cm</td>\n",
       "      <td>35.987025</td>\n",
       "      <td>T2</td>\n",
       "      <td>C2</td>\n",
       "      <td>3.061522</td>\n",
       "      <td>-3.061522</td>\n",
       "      <td>7.655061</td>\n",
       "    </tr>\n",
       "    <tr>\n",
       "      <th>...</th>\n",
       "      <td>...</td>\n",
       "      <td>...</td>\n",
       "      <td>...</td>\n",
       "      <td>...</td>\n",
       "      <td>...</td>\n",
       "      <td>...</td>\n",
       "      <td>...</td>\n",
       "      <td>...</td>\n",
       "      <td>...</td>\n",
       "    </tr>\n",
       "    <tr>\n",
       "      <th>69</th>\n",
       "      <td>96.251402</td>\n",
       "      <td>F7</td>\n",
       "      <td>100cm</td>\n",
       "      <td>89.522402</td>\n",
       "      <td>T3</td>\n",
       "      <td>C2</td>\n",
       "      <td>6.729000</td>\n",
       "      <td>-6.729000</td>\n",
       "      <td>-0.561308</td>\n",
       "    </tr>\n",
       "    <tr>\n",
       "      <th>70</th>\n",
       "      <td>13.661164</td>\n",
       "      <td>F5</td>\n",
       "      <td>80cm</td>\n",
       "      <td>18.845124</td>\n",
       "      <td>T1</td>\n",
       "      <td>C1</td>\n",
       "      <td>5.183960</td>\n",
       "      <td>5.183960</td>\n",
       "      <td>-5.18396</td>\n",
       "    </tr>\n",
       "    <tr>\n",
       "      <th>71</th>\n",
       "      <td>3.774800</td>\n",
       "      <td>F11</td>\n",
       "      <td>60cm</td>\n",
       "      <td>3.535477</td>\n",
       "      <td>T5</td>\n",
       "      <td>C3</td>\n",
       "      <td>0.239323</td>\n",
       "      <td>-0.239323</td>\n",
       "      <td>0.407065</td>\n",
       "    </tr>\n",
       "    <tr>\n",
       "      <th>72</th>\n",
       "      <td>42.386727</td>\n",
       "      <td>F16</td>\n",
       "      <td>100cm</td>\n",
       "      <td>54.606342</td>\n",
       "      <td>T3</td>\n",
       "      <td>C2</td>\n",
       "      <td>12.219615</td>\n",
       "      <td>12.219615</td>\n",
       "      <td>-20.174438</td>\n",
       "    </tr>\n",
       "    <tr>\n",
       "      <th>74</th>\n",
       "      <td>59.546017</td>\n",
       "      <td>F4</td>\n",
       "      <td>100cm</td>\n",
       "      <td>54.045053</td>\n",
       "      <td>T2</td>\n",
       "      <td>C2</td>\n",
       "      <td>5.500964</td>\n",
       "      <td>-5.500964</td>\n",
       "      <td>unknown</td>\n",
       "    </tr>\n",
       "  </tbody>\n",
       "</table>\n",
       "<p>69 rows × 9 columns</p>\n",
       "</div>"
      ],
      "text/plain": [
       "          area flower_number distance  imagej_area flower_color morphology  \\\n",
       "1     4.142760           F11     80cm     3.367735           T5         C3   \n",
       "3    25.580820           F21    100cm    19.696735           T2         C2   \n",
       "4   142.773928           F13     80cm   131.586834           T4         C3   \n",
       "5    23.594120           F21     80cm    20.451572           T2         C2   \n",
       "6    39.048547           F18     60cm    35.987025           T2         C2   \n",
       "..         ...           ...      ...          ...          ...        ...   \n",
       "69   96.251402            F7    100cm    89.522402           T3         C2   \n",
       "70   13.661164            F5     80cm    18.845124           T1         C1   \n",
       "71    3.774800           F11     60cm     3.535477           T5         C3   \n",
       "72   42.386727           F16    100cm    54.606342           T3         C2   \n",
       "74   59.546017            F4    100cm    54.045053           T2         C2   \n",
       "\n",
       "     abs_diff       diff flower_diff  \n",
       "1    0.775025  -0.775025    0.775025  \n",
       "3    5.884085  -5.884085    5.129248  \n",
       "4   11.187094 -11.187094   11.187094  \n",
       "5    3.142548  -3.142548    3.142548  \n",
       "6    3.061522  -3.061522    7.655061  \n",
       "..        ...        ...         ...  \n",
       "69   6.729000  -6.729000   -0.561308  \n",
       "70   5.183960   5.183960    -5.18396  \n",
       "71   0.239323  -0.239323    0.407065  \n",
       "72  12.219615  12.219615  -20.174438  \n",
       "74   5.500964  -5.500964     unknown  \n",
       "\n",
       "[69 rows x 9 columns]"
      ]
     },
     "execution_count": 39,
     "metadata": {},
     "output_type": "execute_result"
    }
   ],
   "source": [
    "data2[data2[\"flower_diff\"] != 0]"
   ]
  },
  {
   "cell_type": "code",
   "execution_count": 40,
   "metadata": {},
   "outputs": [],
   "source": [
    "# filter out 80cm, which is the middle measurement or reference and unknonw, which are for the flowers without 80cm measurement\n",
    "data4 = data2.query(' distance != \"80cm\" and flower_diff != \"unknown\" ')"
   ]
  },
  {
   "cell_type": "code",
   "execution_count": 41,
   "metadata": {},
   "outputs": [
    {
     "data": {
      "text/plain": [
       "(array([ 2.,  1.,  4.,  4.,  9., 13.,  2.,  2.,  3.,  0.,  1.,  1.,  0.,\n",
       "         0.,  0.,  0.,  0.,  0.,  0.,  1.]),\n",
       " array([-31.63956806, -25.33651202, -19.03345599, -12.73039995,\n",
       "         -6.42734392,  -0.12428788,   6.17876816,  12.48182419,\n",
       "         18.78488023,  25.08793626,  31.3909923 ,  37.69404833,\n",
       "         43.99710437,  50.3001604 ,  56.60321644,  62.90627247,\n",
       "         69.20932851,  75.51238454,  81.81544058,  88.11849662,\n",
       "         94.42155265]),\n",
       " <BarContainer object of 20 artists>)"
      ]
     },
     "execution_count": 41,
     "metadata": {},
     "output_type": "execute_result"
    },
    {
     "data": {
      "image/png": "[encoded data removed]",
      "text/plain": [
       "<Figure size 640x480 with 1 Axes>"
      ]
     },
     "metadata": {},
     "output_type": "display_data"
    }
   ],
   "source": [
    "# histogram of distance effect on the same plant\n",
    "plt.hist(data4[\"flower_diff\"], bins=20)"
   ]
  },
  {
   "cell_type": "code",
   "execution_count": 49,
   "metadata": {},
   "outputs": [
    {
     "data": {
      "text/plain": [
       "Text(0.5, 1.0, 'Effect of Distance on Floral Area Estimate (n=20)')"
      ]
     },
     "execution_count": 49,
     "metadata": {},
     "output_type": "execute_result"
    },
    {
     "data": {
      "image/png": "[encoded data removed]",
      "text/plain": [
       "<Figure size 640x480 with 1 Axes>"
      ]
     },
     "metadata": {},
     "output_type": "display_data"
    }
   ],
   "source": [
    "# box plot showing the \n",
    "sns.boxplot(data4['flower_diff'])\n",
    "plt.ylabel(\"Difference $\\\\left( cm^2 \\\\right)$\")\n",
    "plt.title(f\"Effect of Distance on Floral Area Estimate (n={len(data4.groupby('flower_number').count())})\")"
   ]
  },
  {
   "cell_type": "code",
   "execution_count": 43,
   "metadata": {},
   "outputs": [
    {
     "name": "stdout",
     "output_type": "stream",
     "text": [
      "T-Test Result:\n",
      "T-statistic: 0.8886023393238691\n",
      "p-value: 0.3792779394777134\n"
     ]
    }
   ],
   "source": [
    "#https://www.statology.org/one-sample-t-test/\n",
    "#one sample t-test\n",
    "from scipy import stats\n",
    "# statistcal test that the mean is 0\n",
    "\n",
    "# Perform one-sample t-test\n",
    "t_statistic, p_value = stats.ttest_1samp(data4['flower_diff'].tolist(), 0)\n",
    "\n",
    "# Print the t-test result\n",
    "print(\"T-Test Result:\")\n",
    "print(\"T-statistic:\", t_statistic)\n",
    "print(\"p-value:\", p_value)\n"
   ]
  },
  {
   "cell_type": "code",
   "execution_count": 50,
   "metadata": {},
   "outputs": [
    {
     "ename": "TypeError",
     "evalue": "list indices must be integers or slices, not str",
     "output_type": "error",
     "traceback": [
      "\u001b[0;31m---------------------------------------------------------------------------\u001b[0m",
      "\u001b[0;31mTypeError\u001b[0m                                 Traceback (most recent call last)",
      "Cell \u001b[0;32mIn[50], line 12\u001b[0m\n\u001b[1;32m      9\u001b[0m     data \u001b[38;5;241m=\u001b[39m json\u001b[38;5;241m.\u001b[39mload(f)\n\u001b[1;32m     11\u001b[0m \u001b[38;5;66;03m# Example: Extract confidence thresholds and F1 scores\u001b[39;00m\n\u001b[0;32m---> 12\u001b[0m f1_scores \u001b[38;5;241m=\u001b[39m \u001b[43mdata\u001b[49m\u001b[43m[\u001b[49m\u001b[38;5;124;43m\"\u001b[39;49m\u001b[38;5;124;43mmetrics\u001b[39;49m\u001b[38;5;124;43m\"\u001b[39;49m\u001b[43m]\u001b[49m[\u001b[38;5;124m\"\u001b[39m\u001b[38;5;124mf1\u001b[39m\u001b[38;5;124m\"\u001b[39m]  \u001b[38;5;66;03m# Replace key with actual structure\u001b[39;00m\n\u001b[1;32m     13\u001b[0m confidence_thresholds \u001b[38;5;241m=\u001b[39m data[\u001b[38;5;124m\"\u001b[39m\u001b[38;5;124mmetrics\u001b[39m\u001b[38;5;124m\"\u001b[39m][\u001b[38;5;124m\"\u001b[39m\u001b[38;5;124mconf\u001b[39m\u001b[38;5;124m\"\u001b[39m]\n\u001b[1;32m     14\u001b[0m df \u001b[38;5;241m=\u001b[39m pd\u001b[38;5;241m.\u001b[39mDataFrame({\u001b[38;5;124m\"\u001b[39m\u001b[38;5;124mConfidence\u001b[39m\u001b[38;5;124m\"\u001b[39m: confidence_thresholds, \u001b[38;5;124m\"\u001b[39m\u001b[38;5;124mF1-Score\u001b[39m\u001b[38;5;124m\"\u001b[39m: f1_scores})\n",
      "\u001b[0;31mTypeError\u001b[0m: list indices must be integers or slices, not str"
     ]
    }
   ],
   "source": [
    "import pandas as pd\n",
    "import json\n",
    "\n",
    "# Path to results JSON file\n",
    "results_path = \"/Users/edwardamoah/Documents/GitHub/FloralArea/runs/segment/val2/predictions.json\"\n",
    "\n",
    "# Load JSON results\n",
    "with open(results_path, 'r') as f:\n",
    "    data = json.load(f)\n",
    "\n",
    "# Example: Extract confidence thresholds and F1 scores\n",
    "f1_scores = data[\"metrics\"][\"f1\"]  # Replace key with actual structure\n",
    "confidence_thresholds = data[\"metrics\"][\"conf\"]\n",
    "df = pd.DataFrame({\"Confidence\": confidence_thresholds, \"F1-Score\": f1_scores})\n",
    "print(df)\n"
   ]
  },
  {
   "cell_type": "code",
   "execution_count": null,
   "metadata": {},
   "outputs": [],
   "source": [
    "from ultralytics import YOLO\n",
    "\n",
    "# Load a pre-trained or custom YOLOv8 model\n",
    "model = YOLO('/Users/edwardamoah/Documents/GitHub/FloralArea/runs/segment/train7/weights/best.pt')  # Replace with your model file\n",
    "\n",
    "# Run evaluation on the validation dataset\n",
    "metrics = model.val()\n"
   ]
  }
 ],
 "metadata": {
  "kernelspec": {
   "display_name": "venv",
   "language": "python",
   "name": "python3"
  },
  "language_info": {
   "codemirror_mode": {
    "name": "ipython",
    "version": 3
   },
   "file_extension": ".py",
   "mimetype": "text/x-python",
   "name": "python",
   "nbconvert_exporter": "python",
   "pygments_lexer": "ipython3",
   "version": "3.9.6"
  }
 },
 "nbformat": 4,
 "nbformat_minor": 2
}
