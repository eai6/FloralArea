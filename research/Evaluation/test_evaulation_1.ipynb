from scipy import stats

# Perform t-test
t_statistic, p_value = stats.ttest_1samp(data4['flower_diff'], 0)

# Check if the mean is significantly different from 0
if p_value < 0.05:
    print("The mean of data4['flower_diff'] is significantly different from 0.")
else:
    print("The mean of data4['flower_diff'] is not significantly different from 0.")