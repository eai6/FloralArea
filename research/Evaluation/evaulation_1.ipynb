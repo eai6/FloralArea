{
 "cells": [
  {
   "cell_type": "code",
   "execution_count": 206,
   "metadata": {},
   "outputs": [],
   "source": [
    "# import libraries for data analysis\n",
    "import pandas as pd # data processing, CSV file I/O (e.g. pd.read_csv)\n",
    "import numpy as np # linear algebra\n",
    "import matplotlib.pyplot as plt # data visualization\n",
    "import seaborn as sns # data visualization and statistical graphics\n",
    "import sklearn.metrics as metrics # metrics for model evaluation\n",
    "from scipy import stats # statistics"
   ]
  },
  {
   "cell_type": "markdown",
   "metadata": {},
   "source": [
    "Pandas is one of the main libraries for data analysis in python. Check out the official website and read the documentation to learn how to use pandas. \n",
    "\n",
    "https://pandas.pydata.org/pandas-docs/stable/user_guide/index.html"
   ]
  },
  {
   "cell_type": "code",
   "execution_count": 207,
   "metadata": {},
   "outputs": [],
   "source": [
    "############# data loading #############"
   ]
  },
  {
   "cell_type": "code",
   "execution_count": 208,
   "metadata": {},
   "outputs": [],
   "source": [
    "# Load the data\n",
    "df = pd.read_csv('/Users/edwardamoah/Documents/GitHub/FloralArea/research/Evaluation/floralarea_1_40.csv') \n",
    "# https://pandas.pydata.org/pandas-docs/stable/user_guide/io.html#csv-text-files\n",
    "# You can check the link above to learn more abour how to read data for different formats in pandas\n",
    "\n",
    "# Q1: What command is used to load csv files in pandas?"
   ]
  },
  {
   "cell_type": "code",
   "execution_count": 209,
   "metadata": {},
   "outputs": [],
   "source": [
    "# function to convert inches square to cm square\n",
    "def convert_inch_to_cm(inch):\n",
    "    cm = inch * 6.4516\n",
    "    return cm\n"
   ]
  },
  {
   "cell_type": "code",
   "execution_count": 210,
   "metadata": {},
   "outputs": [],
   "source": [
    "# convert inches area to meters\n",
    "df['area'] = df['area'].apply(convert_inch_to_cm)\n",
    "df['imagej_area'] = df['imagej_area'].apply(convert_inch_to_cm)"
   ]
  },
  {
   "cell_type": "code",
   "execution_count": 211,
   "metadata": {},
   "outputs": [],
   "source": [
    "############## data exploration #############"
   ]
  },
  {
   "cell_type": "code",
   "execution_count": 212,
   "metadata": {},
   "outputs": [
    {
     "data": {
      "text/html": [
       "<div>\n",
       "<style scoped>\n",
       "    .dataframe tbody tr th:only-of-type {\n",
       "        vertical-align: middle;\n",
       "    }\n",
       "\n",
       "    .dataframe tbody tr th {\n",
       "        vertical-align: top;\n",
       "    }\n",
       "\n",
       "    .dataframe thead th {\n",
       "        text-align: right;\n",
       "    }\n",
       "</style>\n",
       "<table border=\"1\" class=\"dataframe\">\n",
       "  <thead>\n",
       "    <tr style=\"text-align: right;\">\n",
       "      <th></th>\n",
       "      <th>images</th>\n",
       "      <th>flower_number</th>\n",
       "      <th>distance</th>\n",
       "      <th>flower_color</th>\n",
       "      <th>imagej_area</th>\n",
       "      <th>morphology</th>\n",
       "      <th>area</th>\n",
       "      <th>mask</th>\n",
       "    </tr>\n",
       "  </thead>\n",
       "  <tbody>\n",
       "    <tr>\n",
       "      <th>0</th>\n",
       "      <td>PXL_20240214_172530114_80cm_F6_.jpg</td>\n",
       "      <td>F6</td>\n",
       "      <td>80cm</td>\n",
       "      <td>T1</td>\n",
       "      <td>51.309575</td>\n",
       "      <td>C1</td>\n",
       "      <td>49.604561</td>\n",
       "      <td>api/data/output/flower_0.4_0af93bdc-5b97-491b-...</td>\n",
       "    </tr>\n",
       "    <tr>\n",
       "      <th>1</th>\n",
       "      <td>PXL_20240214_173554009_80cm_F11_.jpg</td>\n",
       "      <td>F11</td>\n",
       "      <td>80cm</td>\n",
       "      <td>T5</td>\n",
       "      <td>3.367735</td>\n",
       "      <td>C3</td>\n",
       "      <td>3.518554</td>\n",
       "      <td>api/data/output/flower_0.4_e2fe60c3-e696-4515-...</td>\n",
       "    </tr>\n",
       "    <tr>\n",
       "      <th>2</th>\n",
       "      <td>PXL_20240214_175708911_100cm_F23_.jpg</td>\n",
       "      <td>F23</td>\n",
       "      <td>100cm</td>\n",
       "      <td>T3</td>\n",
       "      <td>35.916057</td>\n",
       "      <td>C2</td>\n",
       "      <td>31.133460</td>\n",
       "      <td>api/data/output/flower_0.4_36fca698-04eb-4bd0-...</td>\n",
       "    </tr>\n",
       "    <tr>\n",
       "      <th>3</th>\n",
       "      <td>PXL_20240214_175352365_100cm_F21_.jpg</td>\n",
       "      <td>F21</td>\n",
       "      <td>100cm</td>\n",
       "      <td>T2</td>\n",
       "      <td>19.696735</td>\n",
       "      <td>C2</td>\n",
       "      <td>24.514801</td>\n",
       "      <td>api/data/output/flower_0.4_acde85e1-eda5-435a-...</td>\n",
       "    </tr>\n",
       "    <tr>\n",
       "      <th>4</th>\n",
       "      <td>PXL_20240214_174000188_80cm_F13_.jpg</td>\n",
       "      <td>F13</td>\n",
       "      <td>80cm</td>\n",
       "      <td>T4</td>\n",
       "      <td>131.586834</td>\n",
       "      <td>C3</td>\n",
       "      <td>131.486662</td>\n",
       "      <td>api/data/output/flower_0.4_88bb0f72-2300-48ac-...</td>\n",
       "    </tr>\n",
       "  </tbody>\n",
       "</table>\n",
       "</div>"
      ],
      "text/plain": [
       "                                  images flower_number distance flower_color  \\\n",
       "0    PXL_20240214_172530114_80cm_F6_.jpg            F6     80cm           T1   \n",
       "1   PXL_20240214_173554009_80cm_F11_.jpg           F11     80cm           T5   \n",
       "2  PXL_20240214_175708911_100cm_F23_.jpg           F23    100cm           T3   \n",
       "3  PXL_20240214_175352365_100cm_F21_.jpg           F21    100cm           T2   \n",
       "4   PXL_20240214_174000188_80cm_F13_.jpg           F13     80cm           T4   \n",
       "\n",
       "   imagej_area morphology        area  \\\n",
       "0    51.309575         C1   49.604561   \n",
       "1     3.367735         C3    3.518554   \n",
       "2    35.916057         C2   31.133460   \n",
       "3    19.696735         C2   24.514801   \n",
       "4   131.586834         C3  131.486662   \n",
       "\n",
       "                                                mask  \n",
       "0  api/data/output/flower_0.4_0af93bdc-5b97-491b-...  \n",
       "1  api/data/output/flower_0.4_e2fe60c3-e696-4515-...  \n",
       "2  api/data/output/flower_0.4_36fca698-04eb-4bd0-...  \n",
       "3  api/data/output/flower_0.4_acde85e1-eda5-435a-...  \n",
       "4  api/data/output/flower_0.4_88bb0f72-2300-48ac-...  "
      ]
     },
     "execution_count": 212,
     "metadata": {},
     "output_type": "execute_result"
    }
   ],
   "source": [
    "# Print the first few rows of the DataFrame\n",
    "df.head()\n",
    "\n",
    "# Q2: What command is used to view the last few rows of a DataFrame?\n",
    "# Q3: What other commands can be used to explore the data in a DataFrame?"
   ]
  },
  {
   "cell_type": "code",
   "execution_count": 213,
   "metadata": {},
   "outputs": [],
   "source": [
    "############### data cleaning #############"
   ]
  },
  {
   "cell_type": "code",
   "execution_count": 214,
   "metadata": {},
   "outputs": [],
   "source": [
    "# filtere columns \n",
    "data = df[['area','flower_number','distance','imagej_area','flower_color','morphology']]\n",
    "\n",
    "# Q4: Other than the method above. What other method can be used to filter columns in a DataFrame?\n",
    "# Q5: What command is used to drop rows with missing values in a DataFrame?\n"
   ]
  },
  {
   "cell_type": "code",
   "execution_count": 215,
   "metadata": {},
   "outputs": [
    {
     "data": {
      "text/html": [
       "<div>\n",
       "<style scoped>\n",
       "    .dataframe tbody tr th:only-of-type {\n",
       "        vertical-align: middle;\n",
       "    }\n",
       "\n",
       "    .dataframe tbody tr th {\n",
       "        vertical-align: top;\n",
       "    }\n",
       "\n",
       "    .dataframe thead th {\n",
       "        text-align: right;\n",
       "    }\n",
       "</style>\n",
       "<table border=\"1\" class=\"dataframe\">\n",
       "  <thead>\n",
       "    <tr style=\"text-align: right;\">\n",
       "      <th></th>\n",
       "      <th>area</th>\n",
       "      <th>imagej_area</th>\n",
       "    </tr>\n",
       "  </thead>\n",
       "  <tbody>\n",
       "    <tr>\n",
       "      <th>count</th>\n",
       "      <td>75.000000</td>\n",
       "      <td>75.000000</td>\n",
       "    </tr>\n",
       "    <tr>\n",
       "      <th>mean</th>\n",
       "      <td>67.307272</td>\n",
       "      <td>68.018101</td>\n",
       "    </tr>\n",
       "    <tr>\n",
       "      <th>std</th>\n",
       "      <td>77.327467</td>\n",
       "      <td>79.437059</td>\n",
       "    </tr>\n",
       "    <tr>\n",
       "      <th>min</th>\n",
       "      <td>0.000000</td>\n",
       "      <td>2.883865</td>\n",
       "    </tr>\n",
       "    <tr>\n",
       "      <th>25%</th>\n",
       "      <td>18.771353</td>\n",
       "      <td>18.767704</td>\n",
       "    </tr>\n",
       "    <tr>\n",
       "      <th>50%</th>\n",
       "      <td>39.206340</td>\n",
       "      <td>38.670890</td>\n",
       "    </tr>\n",
       "    <tr>\n",
       "      <th>75%</th>\n",
       "      <td>90.323842</td>\n",
       "      <td>90.590141</td>\n",
       "    </tr>\n",
       "    <tr>\n",
       "      <th>max</th>\n",
       "      <td>388.653825</td>\n",
       "      <td>359.605732</td>\n",
       "    </tr>\n",
       "  </tbody>\n",
       "</table>\n",
       "</div>"
      ],
      "text/plain": [
       "             area  imagej_area\n",
       "count   75.000000    75.000000\n",
       "mean    67.307272    68.018101\n",
       "std     77.327467    79.437059\n",
       "min      0.000000     2.883865\n",
       "25%     18.771353    18.767704\n",
       "50%     39.206340    38.670890\n",
       "75%     90.323842    90.590141\n",
       "max    388.653825   359.605732"
      ]
     },
     "execution_count": 215,
     "metadata": {},
     "output_type": "execute_result"
    }
   ],
   "source": [
    "# describe (data exploration after cleaning)\n",
    "data.describe()\n",
    "\n",
    "# Q4: What command is used to get the summary statistics of a DataFrame?"
   ]
  },
  {
   "cell_type": "code",
   "execution_count": 216,
   "metadata": {},
   "outputs": [],
   "source": [
    "############### data visualization #############"
   ]
  },
  {
   "cell_type": "code",
   "execution_count": 217,
   "metadata": {},
   "outputs": [],
   "source": [
    "# filter data by distance\n",
    "data_60 = data.query('distance == \"60cm\"')\n",
    "data_80 = data.query('distance == \"80cm\"')\n",
    "data_100 = data.query('distance == \"100cm\"')"
   ]
  },
  {
   "cell_type": "code",
   "execution_count": 218,
   "metadata": {},
   "outputs": [],
   "source": [
    "# Fit a polynomial regression line\n",
    "coefficients_60 = np.polyfit(data_60['imagej_area'], data_60['area'], 1)\n",
    "poly_line_60 = np.poly1d(coefficients_60)\n",
    "\n",
    "coefficients_80 = np.polyfit(data_80['imagej_area'], data_80['area'], 1)\n",
    "poly_line_80 = np.poly1d(coefficients_80)\n",
    "\n",
    "coefficients_100 = np.polyfit(data_100['imagej_area'], data_100['area'], 1)\n",
    "poly_line_100 = np.poly1d(coefficients_100)\n",
    "\n",
    "coefficients = np.polyfit(data['imagej_area'], data['area'], 1)\n",
    "poly_line = np.poly1d(coefficients)"
   ]
  },
  {
   "cell_type": "code",
   "execution_count": 219,
   "metadata": {},
   "outputs": [
    {
     "data": {
      "text/plain": [
       "Text(0.3, 0.75, '(n=75),\\ny = 0.94x + 3.28, \\nr-square: 0.94')"
      ]
     },
     "execution_count": 219,
     "metadata": {},
     "output_type": "execute_result"
    },
    {
     "data": {
      "image/png": "[encoded data removed]",
      "text/plain": [
       "<Figure size 800x600 with 1 Axes>"
      ]
     },
     "metadata": {},
     "output_type": "display_data"
    }
   ],
   "source": [
    "# set the size of the plot\n",
    "plt.figure(figsize=(8, 6))\n",
    "plt.xlabel('Measured Area $\\\\left( cm^2 \\\\right)$')\n",
    "plt.ylabel('Predicted Area $\\\\left( cm^2 \\\\right)$')\n",
    "plt.title('Predicted vs Measured Area')\n",
    "\n",
    "\n",
    "plt.plot(data['imagej_area'], data['area'], 'o', color='black') # plot the data\n",
    "plt.plot([0,50,100,150,200,250,300,350], [0,50,100,150,200,250,300,350], 'k--')\n",
    "#plt.plot(data_60['imagej_area'], poly_line_60(data_60['imagej_area']), color='red')\n",
    "#plt.plot(data_80['imagej_area'], poly_line_80(data_80['imagej_area']), color='green')\n",
    "#plt.plot(data_100['imagej_area'], poly_line_100(data_100['imagej_area']), color='blue')\n",
    "plt.plot(data['imagej_area'], poly_line(data['imagej_area']))\n",
    "\n",
    "\n",
    "'''\n",
    "# Add equation of the line to the plot\n",
    "equation = f\"y = {coefficients_60[0]:.2f}x + {coefficients_60[1]:.2f}\"\n",
    "r2 = metrics.r2_score(data_60['area'], poly_line_60(data_60['imagej_area']))\n",
    "text_60 = f\"60cm (n={len(data_60)}) : {equation}, R2: {r2:.2f}\"\n",
    "plt.text(0.3, 0.95, text_60, ha='center', va='center', transform=plt.gca().transAxes, color='red')\n",
    "\n",
    "# Add equation of the line to the plot\n",
    "equation = f\"y = {coefficients_80[0]:.2f}x + {coefficients_80[1]:.2f}\"\n",
    "r2 = metrics.r2_score(data_80['area'], poly_line_80(data_80['imagej_area']))\n",
    "text_80 = f\"80cm (n={len(data_80)}) : {equation}, R2: {r2:.2f}\"\n",
    "plt.text(0.3, 0.85, text_80, ha='center', va='center', transform=plt.gca().transAxes, color='green')\n",
    "\n",
    "# Add equation of the line to the plot\n",
    "equation = f\"y = {coefficients_100[0]:.2f}x + {coefficients_100[1]:.2f}\"\n",
    "r2 = metrics.r2_score(data_100['area'], poly_line_100(data_100['imagej_area']))\n",
    "text_100 = f\"100cm (n={len(data_100)}) : {equation}, R2: {r2:.2f}\"\n",
    "plt.text(0.3, 0.75, text_100, ha='center', va='center', transform=plt.gca().transAxes, color='blue')\n",
    "'''\n",
    "\n",
    "# Add equation of the line to the plot\n",
    "equation = f\"y = {coefficients[0]:.2f}x + {coefficients[1]:.2f}\"\n",
    "r2 = metrics.r2_score(data['area'], poly_line(data['imagej_area']))\n",
    "text_all = f\"(n={len(data)}),\\n{equation}, \\nr-square: {r2:.2f}\"\n",
    "plt.text(0.3, 0.75, text_all, ha='center', va='center', transform=plt.gca().transAxes, color='black')\n"
   ]
  },
  {
   "cell_type": "code",
   "execution_count": 220,
   "metadata": {},
   "outputs": [],
   "source": [
    "######### further evaluation #########"
   ]
  },
  {
   "cell_type": "code",
   "execution_count": 221,
   "metadata": {},
   "outputs": [
    {
     "name": "stderr",
     "output_type": "stream",
     "text": [
      "/var/folders/r5/48dgr3g12qg3cwmg9f6v0cwc0000gn/T/ipykernel_65656/2060323613.py:2: SettingWithCopyWarning: \n",
      "A value is trying to be set on a copy of a slice from a DataFrame.\n",
      "Try using .loc[row_indexer,col_indexer] = value instead\n",
      "\n",
      "See the caveats in the documentation: https://pandas.pydata.org/pandas-docs/stable/user_guide/indexing.html#returning-a-view-versus-a-copy\n",
      "  data['abs_diff'] = abs(data['imagej_area'] - data['area'])\n"
     ]
    }
   ],
   "source": [
    "# absolute difference\n",
    "data['abs_diff'] = abs(data['imagej_area'] - data['area'])\n",
    "data['diff'] = data['imagej_area'] - data['area']"
   ]
  },
  {
   "cell_type": "code",
   "execution_count": 222,
   "metadata": {},
   "outputs": [
    {
     "data": {
      "text/html": [
       "<div>\n",
       "<style scoped>\n",
       "    .dataframe tbody tr th:only-of-type {\n",
       "        vertical-align: middle;\n",
       "    }\n",
       "\n",
       "    .dataframe tbody tr th {\n",
       "        vertical-align: top;\n",
       "    }\n",
       "\n",
       "    .dataframe thead th {\n",
       "        text-align: right;\n",
       "    }\n",
       "</style>\n",
       "<table border=\"1\" class=\"dataframe\">\n",
       "  <thead>\n",
       "    <tr style=\"text-align: right;\">\n",
       "      <th></th>\n",
       "      <th>imagej_area</th>\n",
       "      <th>area</th>\n",
       "      <th>abs_diff</th>\n",
       "      <th>diff</th>\n",
       "    </tr>\n",
       "    <tr>\n",
       "      <th>flower_color</th>\n",
       "      <th></th>\n",
       "      <th></th>\n",
       "      <th></th>\n",
       "      <th></th>\n",
       "    </tr>\n",
       "  </thead>\n",
       "  <tbody>\n",
       "    <tr>\n",
       "      <th>T1</th>\n",
       "      <td>18</td>\n",
       "      <td>18</td>\n",
       "      <td>18</td>\n",
       "      <td>18</td>\n",
       "    </tr>\n",
       "    <tr>\n",
       "      <th>T2</th>\n",
       "      <td>15</td>\n",
       "      <td>15</td>\n",
       "      <td>15</td>\n",
       "      <td>15</td>\n",
       "    </tr>\n",
       "    <tr>\n",
       "      <th>T3</th>\n",
       "      <td>21</td>\n",
       "      <td>21</td>\n",
       "      <td>21</td>\n",
       "      <td>21</td>\n",
       "    </tr>\n",
       "    <tr>\n",
       "      <th>T4</th>\n",
       "      <td>17</td>\n",
       "      <td>17</td>\n",
       "      <td>17</td>\n",
       "      <td>17</td>\n",
       "    </tr>\n",
       "    <tr>\n",
       "      <th>T5</th>\n",
       "      <td>4</td>\n",
       "      <td>4</td>\n",
       "      <td>4</td>\n",
       "      <td>4</td>\n",
       "    </tr>\n",
       "  </tbody>\n",
       "</table>\n",
       "</div>"
      ],
      "text/plain": [
       "              imagej_area  area  abs_diff  diff\n",
       "flower_color                                   \n",
       "T1                     18    18        18    18\n",
       "T2                     15    15        15    15\n",
       "T3                     21    21        21    21\n",
       "T4                     17    17        17    17\n",
       "T5                      4     4         4     4"
      ]
     },
     "execution_count": 222,
     "metadata": {},
     "output_type": "execute_result"
    }
   ],
   "source": [
    "# categorize data by flwoer color\n",
    "data[[\"flower_color\", \"imagej_area\", \"area\", \"abs_diff\", \"diff\"]].groupby(\"flower_color\").count() \n",
    "# you can use count, mean, sum, etc."
   ]
  },
  {
   "cell_type": "code",
   "execution_count": 223,
   "metadata": {},
   "outputs": [],
   "source": [
    "# filter data by flower color\n",
    "data_t1 = data.query('flower_color == \"T1\"')\n",
    "data_t2 = data.query('flower_color == \"T2\"')\n",
    "data_t3 = data.query('flower_color == \"T3\"')\n",
    "data_t4 = data.query('flower_color == \"T4\"')\n",
    "data_t5 = data.query('flower_color == \"T5\"')"
   ]
  },
  {
   "cell_type": "code",
   "execution_count": 224,
   "metadata": {},
   "outputs": [
    {
     "data": {
      "text/plain": [
       "([<matplotlib.axis.XTick at 0x1769bf2b0>,\n",
       "  <matplotlib.axis.XTick at 0x1769bf280>,\n",
       "  <matplotlib.axis.XTick at 0x176810f10>,\n",
       "  <matplotlib.axis.XTick at 0x1769ec7f0>,\n",
       "  <matplotlib.axis.XTick at 0x1769f2b50>],\n",
       " [Text(0, 0, 'T1(n=18)'),\n",
       "  Text(1, 0, 'T2(n=15)'),\n",
       "  Text(2, 0, 'T3(n=21)'),\n",
       "  Text(3, 0, 'T4(n=17)'),\n",
       "  Text(4, 0, 'T5(n=4)')])"
      ]
     },
     "execution_count": 224,
     "metadata": {},
     "output_type": "execute_result"
    },
    {
     "data": {
      "image/png": "[encoded data removed]",
      "text/plain": [
       "<Figure size 640x480 with 1 Axes>"
      ]
     },
     "metadata": {},
     "output_type": "display_data"
    }
   ],
   "source": [
    "sns.boxplot(x='flower_color', y='diff', data=data, order=['T1', 'T2', 'T3', 'T4', 'T5'])\n",
    "plt.title('Boxplot of Error by Flower Color')\n",
    "plt.xlabel('Flower Color')\n",
    "plt.ylabel('Error $\\\\left( cm^2 \\\\right)$')\n",
    "plt.xticks([0,1,2,3,4], [f'T1(n={len(data_t1)})', f'T2(n={len(data_t2)})', f'T3(n={len(data_t3)})', f'T4(n={len(data_t4)})', f'T5(n={len(data_t5)})'])"
   ]
  },
  {
   "cell_type": "code",
   "execution_count": 225,
   "metadata": {},
   "outputs": [
    {
     "name": "stdout",
     "output_type": "stream",
     "text": [
      "ANOVA Test Result:\n",
      "F-value: 0.15353498510562122\n",
      "p-value: 0.9608008659982746\n"
     ]
    }
   ],
   "source": [
    "#https://www.statology.org/null-hypothesis-for-anova/\n",
    "\n",
    "# Read about anova testing above\n",
    "\n",
    "# Perform ANOVA test\n",
    "result = stats.f_oneway(data[data['flower_color'] == 'T1']['diff'],\n",
    "                        data[data['flower_color'] == 'T2']['diff'],\n",
    "                        data[data['flower_color'] == 'T3']['diff'],\n",
    "                        data[data['flower_color'] == 'T4']['diff'],\n",
    "                        data[data['flower_color'] == 'T5']['diff'])\n",
    "\n",
    "# Print the ANOVA test result\n",
    "print(\"ANOVA Test Result:\")\n",
    "print(\"F-value:\", result.statistic)\n",
    "print(\"p-value:\", result.pvalue)"
   ]
  },
  {
   "cell_type": "markdown",
   "metadata": {},
   "source": [
    "The p-value is greather than 0.05, hence we fail to reject the null hypothesis and such we can conclude that there isn't evidence in the data that color has significatn effect."
   ]
  },
  {
   "cell_type": "code",
   "execution_count": 226,
   "metadata": {},
   "outputs": [],
   "source": [
    "## categorize by distance"
   ]
  },
  {
   "cell_type": "code",
   "execution_count": 227,
   "metadata": {},
   "outputs": [
    {
     "data": {
      "text/html": [
       "<div>\n",
       "<style scoped>\n",
       "    .dataframe tbody tr th:only-of-type {\n",
       "        vertical-align: middle;\n",
       "    }\n",
       "\n",
       "    .dataframe tbody tr th {\n",
       "        vertical-align: top;\n",
       "    }\n",
       "\n",
       "    .dataframe thead th {\n",
       "        text-align: right;\n",
       "    }\n",
       "</style>\n",
       "<table border=\"1\" class=\"dataframe\">\n",
       "  <thead>\n",
       "    <tr style=\"text-align: right;\">\n",
       "      <th></th>\n",
       "      <th>imagej_area</th>\n",
       "      <th>area</th>\n",
       "      <th>abs_diff</th>\n",
       "      <th>diff</th>\n",
       "    </tr>\n",
       "    <tr>\n",
       "      <th>distance</th>\n",
       "      <th></th>\n",
       "      <th></th>\n",
       "      <th></th>\n",
       "      <th></th>\n",
       "    </tr>\n",
       "  </thead>\n",
       "  <tbody>\n",
       "    <tr>\n",
       "      <th>100cm</th>\n",
       "      <td>27</td>\n",
       "      <td>27</td>\n",
       "      <td>27</td>\n",
       "      <td>27</td>\n",
       "    </tr>\n",
       "    <tr>\n",
       "      <th>60cm</th>\n",
       "      <td>22</td>\n",
       "      <td>22</td>\n",
       "      <td>22</td>\n",
       "      <td>22</td>\n",
       "    </tr>\n",
       "    <tr>\n",
       "      <th>80cm</th>\n",
       "      <td>23</td>\n",
       "      <td>23</td>\n",
       "      <td>23</td>\n",
       "      <td>23</td>\n",
       "    </tr>\n",
       "    <tr>\n",
       "      <th>90cm</th>\n",
       "      <td>3</td>\n",
       "      <td>3</td>\n",
       "      <td>3</td>\n",
       "      <td>3</td>\n",
       "    </tr>\n",
       "  </tbody>\n",
       "</table>\n",
       "</div>"
      ],
      "text/plain": [
       "          imagej_area  area  abs_diff  diff\n",
       "distance                                   \n",
       "100cm              27    27        27    27\n",
       "60cm               22    22        22    22\n",
       "80cm               23    23        23    23\n",
       "90cm                3     3         3     3"
      ]
     },
     "execution_count": 227,
     "metadata": {},
     "output_type": "execute_result"
    }
   ],
   "source": [
    "data[[\"distance\", \"imagej_area\", \"area\", \"abs_diff\", \"diff\"]].groupby(\"distance\").count()"
   ]
  },
  {
   "cell_type": "code",
   "execution_count": 228,
   "metadata": {},
   "outputs": [],
   "source": [
    "# filter data for distance anlysis\n",
    "data_60 = data.query('distance == \"60cm\"')\n",
    "data_80 = data.query('distance == \"80cm\"')\n",
    "data_100 = data.query('distance == \"100cm\"')"
   ]
  },
  {
   "cell_type": "code",
   "execution_count": 229,
   "metadata": {},
   "outputs": [
    {
     "data": {
      "text/plain": [
       "([<matplotlib.axis.XTick at 0x176a6de50>,\n",
       "  <matplotlib.axis.XTick at 0x176a6de20>,\n",
       "  <matplotlib.axis.XTick at 0x176540af0>],\n",
       " [Text(0, 0, '60cm (n=22)'),\n",
       "  Text(1, 0, '80cm (n=23)'),\n",
       "  Text(2, 0, '100cm (n=27)')])"
      ]
     },
     "execution_count": 229,
     "metadata": {},
     "output_type": "execute_result"
    },
    {
     "data": {
      "image/png": "[encoded data removed]",
      "text/plain": [
       "<Figure size 640x480 with 1 Axes>"
      ]
     },
     "metadata": {},
     "output_type": "display_data"
    }
   ],
   "source": [
    "sns.boxplot(x='distance', y='diff', data=data, order=['60cm', '80cm', '100cm'])\n",
    "plt.title('Boxplot of Error by Distance')\n",
    "plt.xlabel('Distance to ground (cm)')\n",
    "plt.ylabel('Error $\\\\left( cm^2 \\\\right)$')\n",
    "plt.xticks([0,1,2], [f'60cm (n={len(data_60)})', f'80cm (n={len(data_80)})', f'100cm (n={len(data_100)})'])"
   ]
  },
  {
   "cell_type": "code",
   "execution_count": 230,
   "metadata": {},
   "outputs": [
    {
     "name": "stdout",
     "output_type": "stream",
     "text": [
      "ANOVA Test Result:\n",
      "F-value: 0.2685369058795013\n",
      "p-value: 0.7652924771763612\n"
     ]
    }
   ],
   "source": [
    "#https://www.statology.org/null-hypothesis-for-anova/\n",
    "\n",
    "# Read about anova testing above\n",
    "\n",
    "# Perform ANOVA test\n",
    "result = stats.f_oneway(data_60[\"diff\"], data_80[\"diff\"], data_100[\"diff\"])\n",
    "\n",
    "# Print the ANOVA test result\n",
    "print(\"ANOVA Test Result:\")\n",
    "print(\"F-value:\", result.statistic)\n",
    "print(\"p-value:\", result.pvalue)"
   ]
  },
  {
   "cell_type": "code",
   "execution_count": 231,
   "metadata": {},
   "outputs": [],
   "source": [
    "# fail to reject the null hypothesis"
   ]
  },
  {
   "cell_type": "code",
   "execution_count": 232,
   "metadata": {},
   "outputs": [],
   "source": [
    "### categorize by morphology"
   ]
  },
  {
   "cell_type": "code",
   "execution_count": 233,
   "metadata": {},
   "outputs": [
    {
     "data": {
      "text/html": [
       "<div>\n",
       "<style scoped>\n",
       "    .dataframe tbody tr th:only-of-type {\n",
       "        vertical-align: middle;\n",
       "    }\n",
       "\n",
       "    .dataframe tbody tr th {\n",
       "        vertical-align: top;\n",
       "    }\n",
       "\n",
       "    .dataframe thead th {\n",
       "        text-align: right;\n",
       "    }\n",
       "</style>\n",
       "<table border=\"1\" class=\"dataframe\">\n",
       "  <thead>\n",
       "    <tr style=\"text-align: right;\">\n",
       "      <th></th>\n",
       "      <th>imagej_area</th>\n",
       "      <th>area</th>\n",
       "      <th>abs_diff</th>\n",
       "      <th>diff</th>\n",
       "    </tr>\n",
       "    <tr>\n",
       "      <th>morphology</th>\n",
       "      <th></th>\n",
       "      <th></th>\n",
       "      <th></th>\n",
       "      <th></th>\n",
       "    </tr>\n",
       "  </thead>\n",
       "  <tbody>\n",
       "    <tr>\n",
       "      <th>C1</th>\n",
       "      <td>18</td>\n",
       "      <td>18</td>\n",
       "      <td>18</td>\n",
       "      <td>18</td>\n",
       "    </tr>\n",
       "    <tr>\n",
       "      <th>C2</th>\n",
       "      <td>36</td>\n",
       "      <td>36</td>\n",
       "      <td>36</td>\n",
       "      <td>36</td>\n",
       "    </tr>\n",
       "    <tr>\n",
       "      <th>C3</th>\n",
       "      <td>21</td>\n",
       "      <td>21</td>\n",
       "      <td>21</td>\n",
       "      <td>21</td>\n",
       "    </tr>\n",
       "  </tbody>\n",
       "</table>\n",
       "</div>"
      ],
      "text/plain": [
       "            imagej_area  area  abs_diff  diff\n",
       "morphology                                   \n",
       "C1                   18    18        18    18\n",
       "C2                   36    36        36    36\n",
       "C3                   21    21        21    21"
      ]
     },
     "execution_count": 233,
     "metadata": {},
     "output_type": "execute_result"
    }
   ],
   "source": [
    "data[[\"morphology\", \"imagej_area\", \"area\", \"abs_diff\", \"diff\"]].groupby(\"morphology\").count()"
   ]
  },
  {
   "cell_type": "code",
   "execution_count": 234,
   "metadata": {},
   "outputs": [],
   "source": [
    "# filter data for morphology analysis\n",
    "data_c1 = data.query('morphology == \"C1\"')\n",
    "data_c2 = data.query('morphology == \"C2\"')\n",
    "data_c3 = data.query('morphology == \"C3\"')"
   ]
  },
  {
   "cell_type": "code",
   "execution_count": 235,
   "metadata": {},
   "outputs": [
    {
     "data": {
      "text/plain": [
       "([<matplotlib.axis.XTick at 0x176b1de80>,\n",
       "  <matplotlib.axis.XTick at 0x176b1de50>,\n",
       "  <matplotlib.axis.XTick at 0x176b17bb0>],\n",
       " [Text(0, 0, 'C1 (n=18)'), Text(1, 0, 'C2 (n=36)'), Text(2, 0, 'C3 (n=21)')])"
      ]
     },
     "execution_count": 235,
     "metadata": {},
     "output_type": "execute_result"
    },
    {
     "data": {
      "image/png": "[encoded data removed]",
      "text/plain": [
       "<Figure size 640x480 with 1 Axes>"
      ]
     },
     "metadata": {},
     "output_type": "display_data"
    }
   ],
   "source": [
    "sns.boxplot(x='morphology', y='diff', data=data, order=['C1', 'C2', 'C3'])\n",
    "plt.title('Boxplot of Error by Morphology')\n",
    "plt.xlabel('Morphology')\n",
    "plt.ylabel('Error $\\\\left( cm^2 \\\\right)$')\n",
    "plt.xticks([0,1,2], [f'C1 (n={len(data_c1)})', f'C2 (n={len(data_c2)})', f'C3 (n={len(data_c3)})'])"
   ]
  },
  {
   "cell_type": "code",
   "execution_count": 236,
   "metadata": {},
   "outputs": [
    {
     "name": "stdout",
     "output_type": "stream",
     "text": [
      "ANOVA Test Result:\n",
      "F-value: 0.22739575485621413\n",
      "p-value: 0.7971753700541301\n"
     ]
    }
   ],
   "source": [
    "#https://www.statology.org/null-hypothesis-for-anova/\n",
    "\n",
    "# Read about anova testing above\n",
    "\n",
    "# Perform ANOVA test\n",
    "result = stats.f_oneway(data_c1[\"diff\"], data_c2[\"diff\"], data_c3[\"diff\"])\n",
    "\n",
    "# Print the ANOVA test result\n",
    "print(\"ANOVA Test Result:\")\n",
    "print(\"F-value:\", result.statistic)\n",
    "print(\"p-value:\", result.pvalue)"
   ]
  },
  {
   "cell_type": "code",
   "execution_count": 237,
   "metadata": {},
   "outputs": [],
   "source": [
    "############## Check assumptions for ANOVA ##############\n",
    "# "
   ]
  },
  {
   "cell_type": "code",
   "execution_count": 238,
   "metadata": {},
   "outputs": [],
   "source": [
    "#plt.hist(data['diff'], bins=20)"
   ]
  },
  {
   "cell_type": "code",
   "execution_count": 239,
   "metadata": {},
   "outputs": [],
   "source": [
    "#plt.hist(data_c1['diff'])"
   ]
  },
  {
   "cell_type": "code",
   "execution_count": 240,
   "metadata": {},
   "outputs": [],
   "source": [
    "#plt.hist(data_c2['diff'])"
   ]
  },
  {
   "cell_type": "code",
   "execution_count": 241,
   "metadata": {},
   "outputs": [],
   "source": [
    "#plt.hist(data_c3['diff'])"
   ]
  },
  {
   "cell_type": "code",
   "execution_count": 242,
   "metadata": {},
   "outputs": [],
   "source": [
    "#plt.hist(data_60['diff'])"
   ]
  },
  {
   "cell_type": "code",
   "execution_count": 243,
   "metadata": {},
   "outputs": [],
   "source": [
    "#plt.hist(data_80['diff'])"
   ]
  },
  {
   "cell_type": "code",
   "execution_count": 244,
   "metadata": {},
   "outputs": [],
   "source": [
    "#plt.hist(data_100['diff'])"
   ]
  },
  {
   "cell_type": "code",
   "execution_count": 245,
   "metadata": {},
   "outputs": [],
   "source": [
    "#plt.hist(data_t1['diff'])"
   ]
  },
  {
   "cell_type": "code",
   "execution_count": 246,
   "metadata": {},
   "outputs": [],
   "source": [
    "#plt.hist(data_t2['diff'])"
   ]
  },
  {
   "cell_type": "code",
   "execution_count": 247,
   "metadata": {},
   "outputs": [],
   "source": [
    "#plt.hist(data_t3['diff'])"
   ]
  },
  {
   "cell_type": "code",
   "execution_count": 248,
   "metadata": {},
   "outputs": [],
   "source": [
    "#plt.hist(data_t4['diff'])"
   ]
  },
  {
   "cell_type": "code",
   "execution_count": 249,
   "metadata": {},
   "outputs": [],
   "source": [
    "#plt.hist(data_t5['diff'])"
   ]
  },
  {
   "cell_type": "code",
   "execution_count": 250,
   "metadata": {},
   "outputs": [],
   "source": [
    "########### further further evaluation ###########\n",
    "\n",
    "# check if there is any statistical difference between the predicted floral area by distance (60cm, 80cm, 100cm)"
   ]
  },
  {
   "cell_type": "code",
   "execution_count": 251,
   "metadata": {},
   "outputs": [
    {
     "data": {
      "text/html": [
       "<div>\n",
       "<style scoped>\n",
       "    .dataframe tbody tr th:only-of-type {\n",
       "        vertical-align: middle;\n",
       "    }\n",
       "\n",
       "    .dataframe tbody tr th {\n",
       "        vertical-align: top;\n",
       "    }\n",
       "\n",
       "    .dataframe thead th {\n",
       "        text-align: right;\n",
       "    }\n",
       "</style>\n",
       "<table border=\"1\" class=\"dataframe\">\n",
       "  <thead>\n",
       "    <tr style=\"text-align: right;\">\n",
       "      <th></th>\n",
       "      <th>area</th>\n",
       "      <th>flower_number</th>\n",
       "      <th>distance</th>\n",
       "      <th>imagej_area</th>\n",
       "      <th>flower_color</th>\n",
       "      <th>morphology</th>\n",
       "      <th>abs_diff</th>\n",
       "      <th>diff</th>\n",
       "    </tr>\n",
       "  </thead>\n",
       "  <tbody>\n",
       "    <tr>\n",
       "      <th>0</th>\n",
       "      <td>49.604561</td>\n",
       "      <td>F6</td>\n",
       "      <td>80cm</td>\n",
       "      <td>51.309575</td>\n",
       "      <td>T1</td>\n",
       "      <td>C1</td>\n",
       "      <td>1.705014</td>\n",
       "      <td>1.705014</td>\n",
       "    </tr>\n",
       "    <tr>\n",
       "      <th>1</th>\n",
       "      <td>3.518554</td>\n",
       "      <td>F11</td>\n",
       "      <td>80cm</td>\n",
       "      <td>3.367735</td>\n",
       "      <td>T5</td>\n",
       "      <td>C3</td>\n",
       "      <td>0.150819</td>\n",
       "      <td>-0.150819</td>\n",
       "    </tr>\n",
       "    <tr>\n",
       "      <th>3</th>\n",
       "      <td>24.514801</td>\n",
       "      <td>F21</td>\n",
       "      <td>100cm</td>\n",
       "      <td>19.696735</td>\n",
       "      <td>T2</td>\n",
       "      <td>C2</td>\n",
       "      <td>4.818066</td>\n",
       "      <td>-4.818066</td>\n",
       "    </tr>\n",
       "    <tr>\n",
       "      <th>4</th>\n",
       "      <td>131.486662</td>\n",
       "      <td>F13</td>\n",
       "      <td>80cm</td>\n",
       "      <td>131.586834</td>\n",
       "      <td>T4</td>\n",
       "      <td>C3</td>\n",
       "      <td>0.100172</td>\n",
       "      <td>0.100172</td>\n",
       "    </tr>\n",
       "    <tr>\n",
       "      <th>5</th>\n",
       "      <td>21.891804</td>\n",
       "      <td>F21</td>\n",
       "      <td>80cm</td>\n",
       "      <td>20.451572</td>\n",
       "      <td>T2</td>\n",
       "      <td>C2</td>\n",
       "      <td>1.440232</td>\n",
       "      <td>-1.440232</td>\n",
       "    </tr>\n",
       "  </tbody>\n",
       "</table>\n",
       "</div>"
      ],
      "text/plain": [
       "         area flower_number distance  imagej_area flower_color morphology  \\\n",
       "0   49.604561            F6     80cm    51.309575           T1         C1   \n",
       "1    3.518554           F11     80cm     3.367735           T5         C3   \n",
       "3   24.514801           F21    100cm    19.696735           T2         C2   \n",
       "4  131.486662           F13     80cm   131.586834           T4         C3   \n",
       "5   21.891804           F21     80cm    20.451572           T2         C2   \n",
       "\n",
       "   abs_diff      diff  \n",
       "0  1.705014  1.705014  \n",
       "1  0.150819 -0.150819  \n",
       "3  4.818066 -4.818066  \n",
       "4  0.100172  0.100172  \n",
       "5  1.440232 -1.440232  "
      ]
     },
     "execution_count": 251,
     "metadata": {},
     "output_type": "execute_result"
    }
   ],
   "source": [
    "# remove flowers that does not have measurements in 60, 80, and 100 cm\n",
    "data1= data[data['flower_number'] != 'F23']\n",
    "data1 = data1[data1['distance'] != '90cm']\n",
    "data1.head()"
   ]
  },
  {
   "cell_type": "code",
   "execution_count": 252,
   "metadata": {},
   "outputs": [
    {
     "data": {
      "text/plain": [
       "<Axes: ylabel='diff'>"
      ]
     },
     "execution_count": 252,
     "metadata": {},
     "output_type": "execute_result"
    },
    {
     "data": {
      "image/png": "[encoded data removed]",
      "text/plain": [
       "<Figure size 640x480 with 1 Axes>"
      ]
     },
     "metadata": {},
     "output_type": "display_data"
    }
   ],
   "source": [
    "# detect and remove outliers\n",
    "from scipy import stats\n",
    "# Calculate z-scores for the 'diff' column\n",
    "z_scores = stats.zscore(data1['diff'])\n",
    "\n",
    "# Define a threshold for outlier detection\n",
    "threshold = 3\n",
    "\n",
    "# Filter out the outliers\n",
    "data2 = data1[(z_scores < threshold)]\n",
    "\n",
    "# Plot the boxplot without outliers\n",
    "sns.boxplot(y='diff', data=data2)\n"
   ]
  },
  {
   "cell_type": "code",
   "execution_count": 253,
   "metadata": {},
   "outputs": [],
   "source": [
    "# \n",
    "data3 = data2.query('distance == \"80cm\"')[[\"flower_number\",\"area\",\"imagej_area\"]]"
   ]
  },
  {
   "cell_type": "code",
   "execution_count": 254,
   "metadata": {},
   "outputs": [],
   "source": [
    "flower_numbers = data3[\"flower_number\"].unique().tolist()\n",
    "#flower_numbers"
   ]
  },
  {
   "cell_type": "code",
   "execution_count": 255,
   "metadata": {},
   "outputs": [],
   "source": [
    "flower_dicts = {}\n",
    "for flower in flower_numbers:\n",
    "    flower_temp = flower\n",
    "    flower_dicts[flower] = np.mean(data3.query(f'flower_number == \"{flower_temp}\"')[\"imagej_area\"].tolist())\n",
    "\n",
    "#flower_temp = flower_numbers[0]\n",
    "#fa = np.mean(data2.query(f'flower_number == \"{flower_temp}\"')[\"imagej_area\"].tolist())"
   ]
  },
  {
   "cell_type": "code",
   "execution_count": 256,
   "metadata": {},
   "outputs": [
    {
     "data": {
      "text/plain": [
       "{'F6': 51.3095748,\n",
       " 'F11': 3.3677352000000003,\n",
       " 'F13': 131.5868336,\n",
       " 'F21': 20.451572,\n",
       " 'F19': 33.2192884,\n",
       " 'F10': 19.3031872,\n",
       " 'F22': 21.4773764,\n",
       " 'F7': 96.8127096,\n",
       " 'F2': 45.148296800000004,\n",
       " 'F18': 31.393485599999998,\n",
       " 'F8': 7.677403999999999,\n",
       " 'F14': 248.15434240000002,\n",
       " 'F12': 3.903218,\n",
       " 'F17': 15.258034000000002,\n",
       " 'F20': 115.1417052,\n",
       " 'F3': 7.8515972000000005,\n",
       " 'F9': 59.090204400000005,\n",
       " 'F1': 38.6708904,\n",
       " 'F16': 62.5611652,\n",
       " 'F5': 18.845123599999997}"
      ]
     },
     "execution_count": 256,
     "metadata": {},
     "output_type": "execute_result"
    }
   ],
   "source": [
    "flower_dicts"
   ]
  },
  {
   "cell_type": "code",
   "execution_count": 257,
   "metadata": {},
   "outputs": [],
   "source": [
    "def getDiff(flower_area, flower_number):\n",
    "    try:\n",
    "        return flower_area - flower_dicts[flower_number]\n",
    "    except:\n",
    "        return \"unknown\""
   ]
  },
  {
   "cell_type": "code",
   "execution_count": 258,
   "metadata": {},
   "outputs": [
    {
     "name": "stderr",
     "output_type": "stream",
     "text": [
      "/var/folders/r5/48dgr3g12qg3cwmg9f6v0cwc0000gn/T/ipykernel_65656/3489814563.py:1: SettingWithCopyWarning: \n",
      "A value is trying to be set on a copy of a slice from a DataFrame.\n",
      "Try using .loc[row_indexer,col_indexer] = value instead\n",
      "\n",
      "See the caveats in the documentation: https://pandas.pydata.org/pandas-docs/stable/user_guide/indexing.html#returning-a-view-versus-a-copy\n",
      "  data2['flower_diff'] = data2.apply(lambda x: getDiff(x['area'], x['flower_number']), axis=1)\n"
     ]
    }
   ],
   "source": [
    "data2['flower_diff'] = data2.apply(lambda x: getDiff(x['area'], x['flower_number']), axis=1)"
   ]
  },
  {
   "cell_type": "code",
   "execution_count": 259,
   "metadata": {},
   "outputs": [
    {
     "data": {
      "text/html": [
       "<div>\n",
       "<style scoped>\n",
       "    .dataframe tbody tr th:only-of-type {\n",
       "        vertical-align: middle;\n",
       "    }\n",
       "\n",
       "    .dataframe tbody tr th {\n",
       "        vertical-align: top;\n",
       "    }\n",
       "\n",
       "    .dataframe thead th {\n",
       "        text-align: right;\n",
       "    }\n",
       "</style>\n",
       "<table border=\"1\" class=\"dataframe\">\n",
       "  <thead>\n",
       "    <tr style=\"text-align: right;\">\n",
       "      <th></th>\n",
       "      <th>area</th>\n",
       "      <th>flower_number</th>\n",
       "      <th>distance</th>\n",
       "      <th>imagej_area</th>\n",
       "      <th>flower_color</th>\n",
       "      <th>morphology</th>\n",
       "      <th>abs_diff</th>\n",
       "      <th>diff</th>\n",
       "      <th>flower_diff</th>\n",
       "    </tr>\n",
       "  </thead>\n",
       "  <tbody>\n",
       "    <tr>\n",
       "      <th>0</th>\n",
       "      <td>49.604561</td>\n",
       "      <td>F6</td>\n",
       "      <td>80cm</td>\n",
       "      <td>51.309575</td>\n",
       "      <td>T1</td>\n",
       "      <td>C1</td>\n",
       "      <td>1.705014</td>\n",
       "      <td>1.705014</td>\n",
       "      <td>-1.705014</td>\n",
       "    </tr>\n",
       "    <tr>\n",
       "      <th>1</th>\n",
       "      <td>3.518554</td>\n",
       "      <td>F11</td>\n",
       "      <td>80cm</td>\n",
       "      <td>3.367735</td>\n",
       "      <td>T5</td>\n",
       "      <td>C3</td>\n",
       "      <td>0.150819</td>\n",
       "      <td>-0.150819</td>\n",
       "      <td>0.150819</td>\n",
       "    </tr>\n",
       "    <tr>\n",
       "      <th>3</th>\n",
       "      <td>24.514801</td>\n",
       "      <td>F21</td>\n",
       "      <td>100cm</td>\n",
       "      <td>19.696735</td>\n",
       "      <td>T2</td>\n",
       "      <td>C2</td>\n",
       "      <td>4.818066</td>\n",
       "      <td>-4.818066</td>\n",
       "      <td>4.063229</td>\n",
       "    </tr>\n",
       "    <tr>\n",
       "      <th>4</th>\n",
       "      <td>131.486662</td>\n",
       "      <td>F13</td>\n",
       "      <td>80cm</td>\n",
       "      <td>131.586834</td>\n",
       "      <td>T4</td>\n",
       "      <td>C3</td>\n",
       "      <td>0.100172</td>\n",
       "      <td>0.100172</td>\n",
       "      <td>-0.100172</td>\n",
       "    </tr>\n",
       "    <tr>\n",
       "      <th>5</th>\n",
       "      <td>21.891804</td>\n",
       "      <td>F21</td>\n",
       "      <td>80cm</td>\n",
       "      <td>20.451572</td>\n",
       "      <td>T2</td>\n",
       "      <td>C2</td>\n",
       "      <td>1.440232</td>\n",
       "      <td>-1.440232</td>\n",
       "      <td>1.440232</td>\n",
       "    </tr>\n",
       "    <tr>\n",
       "      <th>...</th>\n",
       "      <td>...</td>\n",
       "      <td>...</td>\n",
       "      <td>...</td>\n",
       "      <td>...</td>\n",
       "      <td>...</td>\n",
       "      <td>...</td>\n",
       "      <td>...</td>\n",
       "      <td>...</td>\n",
       "      <td>...</td>\n",
       "    </tr>\n",
       "    <tr>\n",
       "      <th>70</th>\n",
       "      <td>17.735496</td>\n",
       "      <td>F5</td>\n",
       "      <td>80cm</td>\n",
       "      <td>18.845124</td>\n",
       "      <td>T1</td>\n",
       "      <td>C1</td>\n",
       "      <td>1.109628</td>\n",
       "      <td>1.109628</td>\n",
       "      <td>-1.109628</td>\n",
       "    </tr>\n",
       "    <tr>\n",
       "      <th>71</th>\n",
       "      <td>4.070898</td>\n",
       "      <td>F11</td>\n",
       "      <td>60cm</td>\n",
       "      <td>3.535477</td>\n",
       "      <td>T5</td>\n",
       "      <td>C3</td>\n",
       "      <td>0.535421</td>\n",
       "      <td>-0.535421</td>\n",
       "      <td>0.703163</td>\n",
       "    </tr>\n",
       "    <tr>\n",
       "      <th>72</th>\n",
       "      <td>39.206340</td>\n",
       "      <td>F16</td>\n",
       "      <td>100cm</td>\n",
       "      <td>54.606342</td>\n",
       "      <td>T3</td>\n",
       "      <td>C2</td>\n",
       "      <td>15.400002</td>\n",
       "      <td>15.400002</td>\n",
       "      <td>-23.354825</td>\n",
       "    </tr>\n",
       "    <tr>\n",
       "      <th>73</th>\n",
       "      <td>43.821045</td>\n",
       "      <td>F6</td>\n",
       "      <td>100cm</td>\n",
       "      <td>41.935400</td>\n",
       "      <td>T1</td>\n",
       "      <td>C1</td>\n",
       "      <td>1.885645</td>\n",
       "      <td>-1.885645</td>\n",
       "      <td>-7.48853</td>\n",
       "    </tr>\n",
       "    <tr>\n",
       "      <th>74</th>\n",
       "      <td>39.726449</td>\n",
       "      <td>F4</td>\n",
       "      <td>100cm</td>\n",
       "      <td>54.045053</td>\n",
       "      <td>T2</td>\n",
       "      <td>C2</td>\n",
       "      <td>14.318604</td>\n",
       "      <td>14.318604</td>\n",
       "      <td>unknown</td>\n",
       "    </tr>\n",
       "  </tbody>\n",
       "</table>\n",
       "<p>70 rows × 9 columns</p>\n",
       "</div>"
      ],
      "text/plain": [
       "          area flower_number distance  imagej_area flower_color morphology  \\\n",
       "0    49.604561            F6     80cm    51.309575           T1         C1   \n",
       "1     3.518554           F11     80cm     3.367735           T5         C3   \n",
       "3    24.514801           F21    100cm    19.696735           T2         C2   \n",
       "4   131.486662           F13     80cm   131.586834           T4         C3   \n",
       "5    21.891804           F21     80cm    20.451572           T2         C2   \n",
       "..         ...           ...      ...          ...          ...        ...   \n",
       "70   17.735496            F5     80cm    18.845124           T1         C1   \n",
       "71    4.070898           F11     60cm     3.535477           T5         C3   \n",
       "72   39.206340           F16    100cm    54.606342           T3         C2   \n",
       "73   43.821045            F6    100cm    41.935400           T1         C1   \n",
       "74   39.726449            F4    100cm    54.045053           T2         C2   \n",
       "\n",
       "     abs_diff       diff flower_diff  \n",
       "0    1.705014   1.705014   -1.705014  \n",
       "1    0.150819  -0.150819    0.150819  \n",
       "3    4.818066  -4.818066    4.063229  \n",
       "4    0.100172   0.100172   -0.100172  \n",
       "5    1.440232  -1.440232    1.440232  \n",
       "..        ...        ...         ...  \n",
       "70   1.109628   1.109628   -1.109628  \n",
       "71   0.535421  -0.535421    0.703163  \n",
       "72  15.400002  15.400002  -23.354825  \n",
       "73   1.885645  -1.885645    -7.48853  \n",
       "74  14.318604  14.318604     unknown  \n",
       "\n",
       "[70 rows x 9 columns]"
      ]
     },
     "execution_count": 259,
     "metadata": {},
     "output_type": "execute_result"
    }
   ],
   "source": [
    "data2[data2[\"flower_diff\"] != 0]"
   ]
  },
  {
   "cell_type": "code",
   "execution_count": 260,
   "metadata": {},
   "outputs": [],
   "source": [
    "# filter out 80cm, which is the middle measurement or reference and unknonw, which are for the flowers without 80cm measurement\n",
    "data4 = data2.query(' distance != \"80cm\" and flower_diff != \"unknown\" ')"
   ]
  },
  {
   "cell_type": "code",
   "execution_count": 261,
   "metadata": {},
   "outputs": [
    {
     "data": {
      "text/plain": [
       "(array([ 3.,  0.,  2.,  7., 12., 10.,  4.,  1.,  2.,  2.,  0.,  0.,  0.,\n",
       "         0.,  0.,  0.,  0.,  0.,  0.,  1.]),\n",
       " array([-29.17913421, -22.9119445 , -16.64475479, -10.37756508,\n",
       "         -4.11037537,   2.15681434,   8.42400404,  14.69119375,\n",
       "         20.95838346,  27.22557317,  33.49276288,  39.75995259,\n",
       "         46.0271423 ,  52.29433201,  58.56152172,  64.82871143,\n",
       "         71.09590113,  77.36309084,  83.63028055,  89.89747026,\n",
       "         96.16465997]),\n",
       " <BarContainer object of 20 artists>)"
      ]
     },
     "execution_count": 261,
     "metadata": {},
     "output_type": "execute_result"
    },
    {
     "data": {
      "image/png": "[encoded data removed]",
      "text/plain": [
       "<Figure size 640x480 with 1 Axes>"
      ]
     },
     "metadata": {},
     "output_type": "display_data"
    }
   ],
   "source": [
    "# histogram of distance effect on the same plant\n",
    "plt.hist(data4[\"flower_diff\"], bins=20)"
   ]
  },
  {
   "cell_type": "code",
   "execution_count": 262,
   "metadata": {},
   "outputs": [
    {
     "data": {
      "text/plain": [
       "Text(0.5, 1.0, 'Effect of Distance on Floral Area Estimate (n=44)')"
      ]
     },
     "execution_count": 262,
     "metadata": {},
     "output_type": "execute_result"
    },
    {
     "data": {
      "image/png": "[encoded data removed]",
      "text/plain": [
       "<Figure size 640x480 with 1 Axes>"
      ]
     },
     "metadata": {},
     "output_type": "display_data"
    }
   ],
   "source": [
    "# box plot showing the \n",
    "sns.boxplot(data4['flower_diff'])\n",
    "plt.ylabel(\"Error $\\\\left( cm^2 \\\\right)$\")\n",
    "plt.title(f\"Effect of Distance on Floral Area Estimate (n={len(data4)})\")"
   ]
  },
  {
   "cell_type": "code",
   "execution_count": 263,
   "metadata": {},
   "outputs": [
    {
     "name": "stdout",
     "output_type": "stream",
     "text": [
      "T-Test Result:\n",
      "T-statistic: 1.0907456030196894\n",
      "p-value: 0.28145934582466947\n"
     ]
    }
   ],
   "source": [
    "#https://www.statology.org/one-sample-t-test/\n",
    "#one sample t-test\n",
    "from scipy import stats\n",
    "# statistcal test that the mean is 0\n",
    "\n",
    "# Perform one-sample t-test\n",
    "t_statistic, p_value = stats.ttest_1samp(data4['flower_diff'].tolist(), 0)\n",
    "\n",
    "# Print the t-test result\n",
    "print(\"T-Test Result:\")\n",
    "print(\"T-statistic:\", t_statistic)\n",
    "print(\"p-value:\", p_value)\n"
   ]
  },
  {
   "cell_type": "code",
   "execution_count": 264,
   "metadata": {},
   "outputs": [],
   "source": [
    "# we fail to reject the null hypothesis, which means that the difference in the predicted floral area is not significantly different from 0"
   ]
  },
  {
   "cell_type": "code",
   "execution_count": 265,
   "metadata": {},
   "outputs": [],
   "source": [
    "############## Experiment 2 Evaluation ##############"
   ]
  },
  {
   "cell_type": "code",
   "execution_count": 266,
   "metadata": {},
   "outputs": [],
   "source": [
    "df2 = pd.read_csv('floralarea_2_.csv')"
   ]
  },
  {
   "cell_type": "code",
   "execution_count": 267,
   "metadata": {},
   "outputs": [],
   "source": [
    "df3 = pd.read_csv('/Users/edwardamoah/Documents/GitHub/FloralArea/research/floralarea_experiment_2_3.csv')"
   ]
  },
  {
   "cell_type": "code",
   "execution_count": 268,
   "metadata": {},
   "outputs": [
    {
     "data": {
      "text/html": [
       "<div>\n",
       "<style scoped>\n",
       "    .dataframe tbody tr th:only-of-type {\n",
       "        vertical-align: middle;\n",
       "    }\n",
       "\n",
       "    .dataframe tbody tr th {\n",
       "        vertical-align: top;\n",
       "    }\n",
       "\n",
       "    .dataframe thead th {\n",
       "        text-align: right;\n",
       "    }\n",
       "</style>\n",
       "<table border=\"1\" class=\"dataframe\">\n",
       "  <thead>\n",
       "    <tr style=\"text-align: right;\">\n",
       "      <th></th>\n",
       "      <th>images</th>\n",
       "      <th>flower_number</th>\n",
       "      <th>imagej_area</th>\n",
       "      <th>flower_color</th>\n",
       "      <th>morphology</th>\n",
       "    </tr>\n",
       "  </thead>\n",
       "  <tbody>\n",
       "    <tr>\n",
       "      <th>0</th>\n",
       "      <td>PXL_20240612_200614241.tif</td>\n",
       "      <td>F1</td>\n",
       "      <td>13.242</td>\n",
       "      <td>Pink</td>\n",
       "      <td>C3</td>\n",
       "    </tr>\n",
       "    <tr>\n",
       "      <th>1</th>\n",
       "      <td>PXL_20240612_200707249.tif</td>\n",
       "      <td>F2</td>\n",
       "      <td>51.383</td>\n",
       "      <td>White,Yellow,Red</td>\n",
       "      <td>C2</td>\n",
       "    </tr>\n",
       "    <tr>\n",
       "      <th>2</th>\n",
       "      <td>PXL_20240612_201017550.tif</td>\n",
       "      <td>F3</td>\n",
       "      <td>10.950</td>\n",
       "      <td>White,Yellow,Red</td>\n",
       "      <td>C2</td>\n",
       "    </tr>\n",
       "    <tr>\n",
       "      <th>3</th>\n",
       "      <td>PXL_20240612_201113770.tif</td>\n",
       "      <td>F4</td>\n",
       "      <td>19.372</td>\n",
       "      <td>White,Yellow,Red</td>\n",
       "      <td>C2</td>\n",
       "    </tr>\n",
       "    <tr>\n",
       "      <th>4</th>\n",
       "      <td>PXL_20240612_201201358.tif</td>\n",
       "      <td>F5</td>\n",
       "      <td>114.592</td>\n",
       "      <td>White,Red,Purple</td>\n",
       "      <td>C2</td>\n",
       "    </tr>\n",
       "  </tbody>\n",
       "</table>\n",
       "</div>"
      ],
      "text/plain": [
       "                       images flower_number  imagej_area      flower_color  \\\n",
       "0  PXL_20240612_200614241.tif            F1       13.242              Pink   \n",
       "1  PXL_20240612_200707249.tif            F2       51.383  White,Yellow,Red   \n",
       "2  PXL_20240612_201017550.tif            F3       10.950  White,Yellow,Red   \n",
       "3  PXL_20240612_201113770.tif            F4       19.372  White,Yellow,Red   \n",
       "4  PXL_20240612_201201358.tif            F5      114.592  White,Red,Purple   \n",
       "\n",
       "  morphology  \n",
       "0         C3  \n",
       "1         C2  \n",
       "2         C2  \n",
       "3         C2  \n",
       "4         C2  "
      ]
     },
     "execution_count": 268,
     "metadata": {},
     "output_type": "execute_result"
    }
   ],
   "source": [
    "df2.head()"
   ]
  },
  {
   "cell_type": "code",
   "execution_count": 269,
   "metadata": {},
   "outputs": [
    {
     "data": {
      "text/html": [
       "<div>\n",
       "<style scoped>\n",
       "    .dataframe tbody tr th:only-of-type {\n",
       "        vertical-align: middle;\n",
       "    }\n",
       "\n",
       "    .dataframe tbody tr th {\n",
       "        vertical-align: top;\n",
       "    }\n",
       "\n",
       "    .dataframe thead th {\n",
       "        text-align: right;\n",
       "    }\n",
       "</style>\n",
       "<table border=\"1\" class=\"dataframe\">\n",
       "  <thead>\n",
       "    <tr style=\"text-align: right;\">\n",
       "      <th></th>\n",
       "      <th>area</th>\n",
       "      <th>mask</th>\n",
       "      <th>images</th>\n",
       "    </tr>\n",
       "  </thead>\n",
       "  <tbody>\n",
       "    <tr>\n",
       "      <th>0</th>\n",
       "      <td>137.597817</td>\n",
       "      <td>api/data/output/flower_0.4_2197274d-6546-46f7-...</td>\n",
       "      <td>PXL_20240612_201201358.jpg</td>\n",
       "    </tr>\n",
       "    <tr>\n",
       "      <th>1</th>\n",
       "      <td>38.591344</td>\n",
       "      <td>api/data/output/flower_0.4_9b84a729-23d8-4352-...</td>\n",
       "      <td>PXL_20240612_202057540.jpg</td>\n",
       "    </tr>\n",
       "    <tr>\n",
       "      <th>2</th>\n",
       "      <td>104.141231</td>\n",
       "      <td>api/data/output/flower_0.4_757c6ee2-da3b-40ab-...</td>\n",
       "      <td>PXL_20240612_202614032.jpg</td>\n",
       "    </tr>\n",
       "    <tr>\n",
       "      <th>3</th>\n",
       "      <td>10.558077</td>\n",
       "      <td>api/data/output/flower_0.4_103803f2-ad17-492e-...</td>\n",
       "      <td>PXL_20240612_201017550.jpg</td>\n",
       "    </tr>\n",
       "    <tr>\n",
       "      <th>4</th>\n",
       "      <td>10.532258</td>\n",
       "      <td>api/data/output/flower_0.4_1fc6c0ef-4433-4c69-...</td>\n",
       "      <td>PXL_20240612_203143722.jpg</td>\n",
       "    </tr>\n",
       "  </tbody>\n",
       "</table>\n",
       "</div>"
      ],
      "text/plain": [
       "         area                                               mask  \\\n",
       "0  137.597817  api/data/output/flower_0.4_2197274d-6546-46f7-...   \n",
       "1   38.591344  api/data/output/flower_0.4_9b84a729-23d8-4352-...   \n",
       "2  104.141231  api/data/output/flower_0.4_757c6ee2-da3b-40ab-...   \n",
       "3   10.558077  api/data/output/flower_0.4_103803f2-ad17-492e-...   \n",
       "4   10.532258  api/data/output/flower_0.4_1fc6c0ef-4433-4c69-...   \n",
       "\n",
       "                       images  \n",
       "0  PXL_20240612_201201358.jpg  \n",
       "1  PXL_20240612_202057540.jpg  \n",
       "2  PXL_20240612_202614032.jpg  \n",
       "3  PXL_20240612_201017550.jpg  \n",
       "4  PXL_20240612_203143722.jpg  "
      ]
     },
     "execution_count": 269,
     "metadata": {},
     "output_type": "execute_result"
    }
   ],
   "source": [
    "df3.head()"
   ]
  },
  {
   "cell_type": "code",
   "execution_count": 270,
   "metadata": {},
   "outputs": [],
   "source": [
    "def getFileName(file):\n",
    "    return file.split('/')[-1].split('.')[0]"
   ]
  },
  {
   "cell_type": "code",
   "execution_count": 271,
   "metadata": {},
   "outputs": [],
   "source": [
    "# file \n",
    "df2['file'] = df2.apply(lambda x: getFileName(x['images']), axis=1)\n",
    "\n",
    "df3['file'] = df3.apply(lambda x: getFileName(x['images']), axis=1)"
   ]
  },
  {
   "cell_type": "code",
   "execution_count": 272,
   "metadata": {},
   "outputs": [],
   "source": [
    "# merge data\n",
    "df4 = df3.merge(df2, on='file', how='inner')"
   ]
  },
  {
   "cell_type": "code",
   "execution_count": 273,
   "metadata": {},
   "outputs": [],
   "source": [
    "df4['area'] = df4['area'].apply(convert_inch_to_cm)\n",
    "df4['imagej_area'] = df4['imagej_area'].apply(convert_inch_to_cm)"
   ]
  },
  {
   "cell_type": "code",
   "execution_count": 274,
   "metadata": {},
   "outputs": [
    {
     "data": {
      "text/plain": [
       "Text(0.3, 0.75, '(n=32),\\ny = 1.01x + 11.55, \\nr-square: 0.98')"
      ]
     },
     "execution_count": 274,
     "metadata": {},
     "output_type": "execute_result"
    },
    {
     "data": {
      "image/png": "[encoded data removed]",
      "text/plain": [
       "<Figure size 800x600 with 1 Axes>"
      ]
     },
     "metadata": {},
     "output_type": "display_data"
    }
   ],
   "source": [
    "# make plot\n",
    "\n",
    "data = df4\n",
    "\n",
    "# Fit a polynomial regression line\n",
    "coefficients = np.polyfit(data['imagej_area'], data['area'], 1)\n",
    "poly_line = np.poly1d(coefficients)\n",
    "\n",
    "# set the size of the plot\n",
    "plt.figure(figsize=(8, 6))\n",
    "plt.xlabel('Measured Area $\\\\left( cm^2 \\\\right)$')\n",
    "plt.ylabel('Predicted Area $\\\\left( cm^2 \\\\right)$')\n",
    "plt.title('Predicted vs Measured Area')\n",
    "\n",
    "\n",
    "plt.plot(data['imagej_area'], data['area'], 'o', color='black') # plot the data\n",
    "plt.plot([0,200,400,600,800,1000,1200], [0,200,400,600,800,1000,1200], 'k--')\n",
    "plt.plot(data['imagej_area'], poly_line(data['imagej_area']))\n",
    "\n",
    "\n",
    "# Add equation of the line to the plot\n",
    "equation = f\"y = {coefficients[0]:.2f}x + {coefficients[1]:.2f}\"\n",
    "r2 = metrics.r2_score(data['area'], poly_line(data['imagej_area']))\n",
    "text_all = f\"(n={len(data)}),\\n{equation}, \\nr-square: {r2:.2f}\"\n",
    "plt.text(0.3, 0.75, text_all, ha='center', va='center', transform=plt.gca().transAxes, color='black')"
   ]
  },
  {
   "cell_type": "code",
   "execution_count": 22,
   "metadata": {},
   "outputs": [
    {
     "data": {
      "text/plain": [
       "Text(0.3, 0.75, '(n=32),\\ny = 1.01x + 11.55, \\nr-square: 0.98')"
      ]
     },
     "execution_count": 22,
     "metadata": {},
     "output_type": "execute_result"
    },
    {
     "data": {
      "image/png": "[encoded data removed]",
      "text/plain": [
       "<Figure size 800x600 with 1 Axes>"
      ]
     },
     "metadata": {},
     "output_type": "display_data"
    }
   ],
   "source": [
    "# make plot\n",
    "\n",
    "data = df4\n",
    "\n",
    "# Fit a polynomial regression line\n",
    "coefficients = np.polyfit(data['imagej_area'], data['area'], 1)\n",
    "poly_line = np.poly1d(coefficients)\n",
    "\n",
    "# set the size of the plot\n",
    "plt.figure(figsize=(8, 6))\n",
    "plt.xlabel('Measured Area $\\\\left( cm^2 \\\\right)$')\n",
    "plt.ylabel('Predicted Area $\\\\left( cm^2 \\\\right)$')\n",
    "plt.title('Predicted vs Measured Area')\n",
    "\n",
    "\n",
    "plt.plot(data['imagej_area'], data['area'], 'o', color='black') # plot the data\n",
    "plt.plot([0,200,400,600,800,1000,1200], [0,200,400,600,800,1000,1200], 'k--')\n",
    "plt.plot(data['imagej_area'], poly_line(data['imagej_area']))\n",
    "\n",
    "\n",
    "# Add equation of the line to the plot\n",
    "equation = f\"y = {coefficients[0]:.2f}x + {coefficients[1]:.2f}\"\n",
    "r2 = metrics.r2_score(data['area'], poly_line(data['imagej_area']))\n",
    "text_all = f\"(n={len(data)}),\\n{equation}, \\nr-square: {r2:.2f}\"\n",
    "plt.text(0.3, 0.75, text_all, ha='center', va='center', transform=plt.gca().transAxes, color='black')"
   ]
  },
  {
   "cell_type": "code",
   "execution_count": null,
   "metadata": {},
   "outputs": [],
   "source": []
  }
 ],
 "metadata": {
  "kernelspec": {
   "display_name": "venv",
   "language": "python",
   "name": "python3"
  },
  "language_info": {
   "codemirror_mode": {
    "name": "ipython",
    "version": 3
   },
   "file_extension": ".py",
   "mimetype": "text/x-python",
   "name": "python",
   "nbconvert_exporter": "python",
   "pygments_lexer": "ipython3",
   "version": "3.9.6"
  }
 },
 "nbformat": 4,
 "nbformat_minor": 2
}
