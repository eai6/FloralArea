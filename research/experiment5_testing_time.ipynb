{
 "cells": [
  {
   "cell_type": "code",
   "execution_count": 1,
   "metadata": {},
   "outputs": [
    {
     "name": "stderr",
     "output_type": "stream",
     "text": [
      "/Users/edwardamoah/Documents/GitHub/FloralArea/venv/lib/python3.9/site-packages/urllib3/__init__.py:35: NotOpenSSLWarning: urllib3 v2 only supports OpenSSL 1.1.1+, currently the 'ssl' module is compiled with 'LibreSSL 2.8.3'. See: https://github.com/urllib3/urllib3/issues/3020\n",
      "  warnings.warn(\n",
      "UsageError: Line magic function `%inline` not found.\n"
     ]
    }
   ],
   "source": [
    "import requests\n",
    "import pandas as pd\n",
    "import numpy as np\n",
    "import os\n",
    "import matplotlib.pyplot as plt\n",
    "%inline matplotlib"
   ]
  },
  {
   "cell_type": "code",
   "execution_count": 10,
   "metadata": {},
   "outputs": [],
   "source": [
    "files = os.listdir('/Users/edwardamoah/Downloads/experiment_3_images')"
   ]
  },
  {
   "cell_type": "code",
   "execution_count": 11,
   "metadata": {},
   "outputs": [],
   "source": [
    "files = ['/Users/edwardamoah/Downloads/Experiment_3_images/' + file for file in files]"
   ]
  },
  {
   "cell_type": "code",
   "execution_count": 12,
   "metadata": {},
   "outputs": [
    {
     "data": {
      "text/plain": [
       "['/Users/edwardamoah/Downloads/Experiment_3_images/PXL_20240214_171637048_100cm_F1_.jpg',\n",
       " '/Users/edwardamoah/Downloads/Experiment_3_images/PXL_20240214_172005738_100cm_F3_.jpg',\n",
       " '/Users/edwardamoah/Downloads/Experiment_3_images/PXL_20240214_171819047_100cm_F2_.jpg',\n",
       " '/Users/edwardamoah/Downloads/Experiment_3_images/PXL_20240214_171937537_100cm_F3_.jpg',\n",
       " '/Users/edwardamoah/Downloads/Experiment_3_images/PXL_20240214_171827242_100cm_F2_.jpg',\n",
       " '/Users/edwardamoah/Downloads/Experiment_3_images/PXL_20240214_171837365_60cm_F2_.jpg',\n",
       " '/Users/edwardamoah/Downloads/Experiment_3_images/PXL_20240214_171953310_80cm_F3_.jpg',\n",
       " '/Users/edwardamoah/Downloads/Experiment_3_images/PXL_20240214_172351335_100cm_F5_.jpg',\n",
       " '/Users/edwardamoah/Downloads/Experiment_3_images/PXL_20240214_171724834_60cm_F1_.jpg',\n",
       " '/Users/edwardamoah/Downloads/Experiment_3_images/PXL_20240214_171717068_80cm_F1_.jpg']"
      ]
     },
     "execution_count": 12,
     "metadata": {},
     "output_type": "execute_result"
    }
   ],
   "source": [
    "files"
   ]
  },
  {
   "cell_type": "code",
   "execution_count": 13,
   "metadata": {},
   "outputs": [
    {
     "name": "stdout",
     "output_type": "stream",
     "text": [
      "/Users/edwardamoah/Downloads/Experiment_3_images/PXL_20240214_171637048_100cm_F1_.jpg\n",
      "/Users/edwardamoah/Downloads/Experiment_3_images/PXL_20240214_172005738_100cm_F3_.jpg\n",
      "/Users/edwardamoah/Downloads/Experiment_3_images/PXL_20240214_171819047_100cm_F2_.jpg\n",
      "/Users/edwardamoah/Downloads/Experiment_3_images/PXL_20240214_171937537_100cm_F3_.jpg\n",
      "/Users/edwardamoah/Downloads/Experiment_3_images/PXL_20240214_171827242_100cm_F2_.jpg\n",
      "/Users/edwardamoah/Downloads/Experiment_3_images/PXL_20240214_171837365_60cm_F2_.jpg\n",
      "/Users/edwardamoah/Downloads/Experiment_3_images/PXL_20240214_171953310_80cm_F3_.jpg\n",
      "/Users/edwardamoah/Downloads/Experiment_3_images/PXL_20240214_172351335_100cm_F5_.jpg\n",
      "/Users/edwardamoah/Downloads/Experiment_3_images/PXL_20240214_171724834_60cm_F1_.jpg\n",
      "/Users/edwardamoah/Downloads/Experiment_3_images/PXL_20240214_171717068_80cm_F1_.jpg\n"
     ]
    }
   ],
   "source": [
    "import time \n",
    "area = []\n",
    "mask = []\n",
    "times = []\n",
    "\n",
    "for file in files:\n",
    "    start_time = time.time()\n",
    "    print(file)\n",
    "    url = 'http://localhost:8000/estimate_area/flower/0.5'\n",
    "    file = {'uploaded_file': open(file, 'rb')}\n",
    "    response = requests.post(url, files=file)\n",
    "    response = response.json()\n",
    "    area.append(response['area'])\n",
    "    mask.append(response['mask'])\n",
    "    times.append(time.time() - start_time)\n",
    "    \n",
    "    #print(response.json())"
   ]
  },
  {
   "cell_type": "code",
   "execution_count": 16,
   "metadata": {},
   "outputs": [],
   "source": [
    "filename= [file.split('/')[-1] for file in files]\n",
    "df = pd.DataFrame({'area': area, 'mask': mask, 'images': filename, 'time': times})"
   ]
  },
  {
   "cell_type": "code",
   "execution_count": 17,
   "metadata": {},
   "outputs": [
    {
     "data": {
      "text/html": [
       "<div>\n",
       "<style scoped>\n",
       "    .dataframe tbody tr th:only-of-type {\n",
       "        vertical-align: middle;\n",
       "    }\n",
       "\n",
       "    .dataframe tbody tr th {\n",
       "        vertical-align: top;\n",
       "    }\n",
       "\n",
       "    .dataframe thead th {\n",
       "        text-align: right;\n",
       "    }\n",
       "</style>\n",
       "<table border=\"1\" class=\"dataframe\">\n",
       "  <thead>\n",
       "    <tr style=\"text-align: right;\">\n",
       "      <th></th>\n",
       "      <th>area</th>\n",
       "      <th>mask</th>\n",
       "      <th>images</th>\n",
       "      <th>time</th>\n",
       "    </tr>\n",
       "  </thead>\n",
       "  <tbody>\n",
       "    <tr>\n",
       "      <th>0</th>\n",
       "      <td>5.291555</td>\n",
       "      <td>api/data/output/flower_0.5_d1711aae-2084-4309-...</td>\n",
       "      <td>PXL_20240214_171637048_100cm_F1_.jpg</td>\n",
       "      <td>2.054909</td>\n",
       "    </tr>\n",
       "    <tr>\n",
       "      <th>1</th>\n",
       "      <td>1.595462</td>\n",
       "      <td>api/data/output/flower_0.5_54107666-c1e4-460d-...</td>\n",
       "      <td>PXL_20240214_172005738_100cm_F3_.jpg</td>\n",
       "      <td>1.560904</td>\n",
       "    </tr>\n",
       "    <tr>\n",
       "      <th>2</th>\n",
       "      <td>5.673267</td>\n",
       "      <td>api/data/output/flower_0.5_f528806a-89f4-41ca-...</td>\n",
       "      <td>PXL_20240214_171819047_100cm_F2_.jpg</td>\n",
       "      <td>1.669320</td>\n",
       "    </tr>\n",
       "    <tr>\n",
       "      <th>3</th>\n",
       "      <td>1.190337</td>\n",
       "      <td>api/data/output/flower_0.5_37f923be-e87f-4774-...</td>\n",
       "      <td>PXL_20240214_171937537_100cm_F3_.jpg</td>\n",
       "      <td>1.611398</td>\n",
       "    </tr>\n",
       "    <tr>\n",
       "      <th>4</th>\n",
       "      <td>6.986128</td>\n",
       "      <td>api/data/output/flower_0.5_66f5b524-e08e-4450-...</td>\n",
       "      <td>PXL_20240214_171827242_100cm_F2_.jpg</td>\n",
       "      <td>1.578122</td>\n",
       "    </tr>\n",
       "    <tr>\n",
       "      <th>5</th>\n",
       "      <td>6.721779</td>\n",
       "      <td>api/data/output/flower_0.5_d7dda357-e47f-4893-...</td>\n",
       "      <td>PXL_20240214_171837365_60cm_F2_.jpg</td>\n",
       "      <td>1.669129</td>\n",
       "    </tr>\n",
       "    <tr>\n",
       "      <th>6</th>\n",
       "      <td>1.268530</td>\n",
       "      <td>api/data/output/flower_0.5_9af33ebd-af83-4604-...</td>\n",
       "      <td>PXL_20240214_171953310_80cm_F3_.jpg</td>\n",
       "      <td>1.576636</td>\n",
       "    </tr>\n",
       "    <tr>\n",
       "      <th>7</th>\n",
       "      <td>2.674180</td>\n",
       "      <td>api/data/output/flower_0.5_ed5baad9-fe05-4d33-...</td>\n",
       "      <td>PXL_20240214_172351335_100cm_F5_.jpg</td>\n",
       "      <td>1.601048</td>\n",
       "    </tr>\n",
       "    <tr>\n",
       "      <th>8</th>\n",
       "      <td>7.493321</td>\n",
       "      <td>api/data/output/flower_0.5_55656861-5625-46a7-...</td>\n",
       "      <td>PXL_20240214_171724834_60cm_F1_.jpg</td>\n",
       "      <td>1.609255</td>\n",
       "    </tr>\n",
       "    <tr>\n",
       "      <th>9</th>\n",
       "      <td>5.877161</td>\n",
       "      <td>api/data/output/flower_0.5_4aab64e7-0480-4cb0-...</td>\n",
       "      <td>PXL_20240214_171717068_80cm_F1_.jpg</td>\n",
       "      <td>1.574413</td>\n",
       "    </tr>\n",
       "  </tbody>\n",
       "</table>\n",
       "</div>"
      ],
      "text/plain": [
       "       area                                               mask  \\\n",
       "0  5.291555  api/data/output/flower_0.5_d1711aae-2084-4309-...   \n",
       "1  1.595462  api/data/output/flower_0.5_54107666-c1e4-460d-...   \n",
       "2  5.673267  api/data/output/flower_0.5_f528806a-89f4-41ca-...   \n",
       "3  1.190337  api/data/output/flower_0.5_37f923be-e87f-4774-...   \n",
       "4  6.986128  api/data/output/flower_0.5_66f5b524-e08e-4450-...   \n",
       "5  6.721779  api/data/output/flower_0.5_d7dda357-e47f-4893-...   \n",
       "6  1.268530  api/data/output/flower_0.5_9af33ebd-af83-4604-...   \n",
       "7  2.674180  api/data/output/flower_0.5_ed5baad9-fe05-4d33-...   \n",
       "8  7.493321  api/data/output/flower_0.5_55656861-5625-46a7-...   \n",
       "9  5.877161  api/data/output/flower_0.5_4aab64e7-0480-4cb0-...   \n",
       "\n",
       "                                 images      time  \n",
       "0  PXL_20240214_171637048_100cm_F1_.jpg  2.054909  \n",
       "1  PXL_20240214_172005738_100cm_F3_.jpg  1.560904  \n",
       "2  PXL_20240214_171819047_100cm_F2_.jpg  1.669320  \n",
       "3  PXL_20240214_171937537_100cm_F3_.jpg  1.611398  \n",
       "4  PXL_20240214_171827242_100cm_F2_.jpg  1.578122  \n",
       "5   PXL_20240214_171837365_60cm_F2_.jpg  1.669129  \n",
       "6   PXL_20240214_171953310_80cm_F3_.jpg  1.576636  \n",
       "7  PXL_20240214_172351335_100cm_F5_.jpg  1.601048  \n",
       "8   PXL_20240214_171724834_60cm_F1_.jpg  1.609255  \n",
       "9   PXL_20240214_171717068_80cm_F1_.jpg  1.574413  "
      ]
     },
     "execution_count": 17,
     "metadata": {},
     "output_type": "execute_result"
    }
   ],
   "source": [
    "df"
   ]
  },
  {
   "cell_type": "code",
   "execution_count": 18,
   "metadata": {},
   "outputs": [],
   "source": [
    "#df.to_csv('/Users/edwardamoah/Documents/GitHub/FloralArea/research/floralarea_experiment_2.csv', index=False)"
   ]
  },
  {
   "cell_type": "code",
   "execution_count": 19,
   "metadata": {},
   "outputs": [],
   "source": [
    "# load other data\n",
    "df1 = pd.read_csv(\"/Users/edwardamoah/Downloads/measuring_time_experiment3 - Sheet1.csv\")"
   ]
  },
  {
   "cell_type": "code",
   "execution_count": 29,
   "metadata": {},
   "outputs": [],
   "source": [
    "#df1[\"name\"] = \n",
    "\n",
    "df1[\"name\"] = df1[\"images\"].str.split(\"_.tif\").str[0]"
   ]
  },
  {
   "cell_type": "code",
   "execution_count": 30,
   "metadata": {},
   "outputs": [
    {
     "data": {
      "text/html": [
       "<div>\n",
       "<style scoped>\n",
       "    .dataframe tbody tr th:only-of-type {\n",
       "        vertical-align: middle;\n",
       "    }\n",
       "\n",
       "    .dataframe tbody tr th {\n",
       "        vertical-align: top;\n",
       "    }\n",
       "\n",
       "    .dataframe thead th {\n",
       "        text-align: right;\n",
       "    }\n",
       "</style>\n",
       "<table border=\"1\" class=\"dataframe\">\n",
       "  <thead>\n",
       "    <tr style=\"text-align: right;\">\n",
       "      <th></th>\n",
       "      <th>images</th>\n",
       "      <th>flower_number</th>\n",
       "      <th>imagej_area</th>\n",
       "      <th>measuring_time</th>\n",
       "      <th>algorithm_time</th>\n",
       "      <th>name</th>\n",
       "    </tr>\n",
       "  </thead>\n",
       "  <tbody>\n",
       "    <tr>\n",
       "      <th>0</th>\n",
       "      <td>PXL_20240214_171637048_100cm_F1_.tif</td>\n",
       "      <td>F1</td>\n",
       "      <td>5.383</td>\n",
       "      <td>297.12</td>\n",
       "      <td>NaN</td>\n",
       "      <td>PXL_20240214_171637048_100cm_F1</td>\n",
       "    </tr>\n",
       "    <tr>\n",
       "      <th>1</th>\n",
       "      <td>PXL_20240214_171717068_80cm_F1_.tif</td>\n",
       "      <td>F2</td>\n",
       "      <td>5.959</td>\n",
       "      <td>351.00</td>\n",
       "      <td>NaN</td>\n",
       "      <td>PXL_20240214_171717068_80cm_F1</td>\n",
       "    </tr>\n",
       "    <tr>\n",
       "      <th>2</th>\n",
       "      <td>PXL_20240214_171724834_60cm_F1_.tif</td>\n",
       "      <td>F3</td>\n",
       "      <td>7.706</td>\n",
       "      <td>379.54</td>\n",
       "      <td>NaN</td>\n",
       "      <td>PXL_20240214_171724834_60cm_F1</td>\n",
       "    </tr>\n",
       "    <tr>\n",
       "      <th>3</th>\n",
       "      <td>PXL_20240214_171819047_100cm_F2_.tif</td>\n",
       "      <td>F4</td>\n",
       "      <td>6.111</td>\n",
       "      <td>271.53</td>\n",
       "      <td>NaN</td>\n",
       "      <td>PXL_20240214_171819047_100cm_F2</td>\n",
       "    </tr>\n",
       "    <tr>\n",
       "      <th>4</th>\n",
       "      <td>PXL_20240214_171827242_100cm_F2_.tif</td>\n",
       "      <td>F5</td>\n",
       "      <td>7.060</td>\n",
       "      <td>292.51</td>\n",
       "      <td>NaN</td>\n",
       "      <td>PXL_20240214_171827242_100cm_F2</td>\n",
       "    </tr>\n",
       "    <tr>\n",
       "      <th>5</th>\n",
       "      <td>PXL_20240214_171837365_60cm_F2_.tif</td>\n",
       "      <td>F6</td>\n",
       "      <td>8.899</td>\n",
       "      <td>303.37</td>\n",
       "      <td>NaN</td>\n",
       "      <td>PXL_20240214_171837365_60cm_F2</td>\n",
       "    </tr>\n",
       "    <tr>\n",
       "      <th>6</th>\n",
       "      <td>PXL_20240214_171937537_100cm_F3_.tif</td>\n",
       "      <td>F7</td>\n",
       "      <td>1.084</td>\n",
       "      <td>80.53</td>\n",
       "      <td>NaN</td>\n",
       "      <td>PXL_20240214_171937537_100cm_F3</td>\n",
       "    </tr>\n",
       "    <tr>\n",
       "      <th>7</th>\n",
       "      <td>PXL_20240214_171953310_80cm_F3_.tif</td>\n",
       "      <td>F8</td>\n",
       "      <td>1.214</td>\n",
       "      <td>90.72</td>\n",
       "      <td>NaN</td>\n",
       "      <td>PXL_20240214_171953310_80cm_F3</td>\n",
       "    </tr>\n",
       "    <tr>\n",
       "      <th>8</th>\n",
       "      <td>PXL_20240214_172005738_100cm_F3_.tif</td>\n",
       "      <td>F9</td>\n",
       "      <td>1.515</td>\n",
       "      <td>114.42</td>\n",
       "      <td>NaN</td>\n",
       "      <td>PXL_20240214_172005738_100cm_F3</td>\n",
       "    </tr>\n",
       "    <tr>\n",
       "      <th>9</th>\n",
       "      <td>PXL_20240214_172351335_100cm_F5_.tif</td>\n",
       "      <td>F13</td>\n",
       "      <td>2.527</td>\n",
       "      <td>142.97</td>\n",
       "      <td>NaN</td>\n",
       "      <td>PXL_20240214_172351335_100cm_F5</td>\n",
       "    </tr>\n",
       "  </tbody>\n",
       "</table>\n",
       "</div>"
      ],
      "text/plain": [
       "                                 images flower_number  imagej_area  \\\n",
       "0  PXL_20240214_171637048_100cm_F1_.tif            F1        5.383   \n",
       "1   PXL_20240214_171717068_80cm_F1_.tif            F2        5.959   \n",
       "2   PXL_20240214_171724834_60cm_F1_.tif            F3        7.706   \n",
       "3  PXL_20240214_171819047_100cm_F2_.tif            F4        6.111   \n",
       "4  PXL_20240214_171827242_100cm_F2_.tif            F5        7.060   \n",
       "5   PXL_20240214_171837365_60cm_F2_.tif            F6        8.899   \n",
       "6  PXL_20240214_171937537_100cm_F3_.tif            F7        1.084   \n",
       "7   PXL_20240214_171953310_80cm_F3_.tif            F8        1.214   \n",
       "8  PXL_20240214_172005738_100cm_F3_.tif            F9        1.515   \n",
       "9  PXL_20240214_172351335_100cm_F5_.tif           F13        2.527   \n",
       "\n",
       "   measuring_time  algorithm_time                             name  \n",
       "0          297.12             NaN  PXL_20240214_171637048_100cm_F1  \n",
       "1          351.00             NaN   PXL_20240214_171717068_80cm_F1  \n",
       "2          379.54             NaN   PXL_20240214_171724834_60cm_F1  \n",
       "3          271.53             NaN  PXL_20240214_171819047_100cm_F2  \n",
       "4          292.51             NaN  PXL_20240214_171827242_100cm_F2  \n",
       "5          303.37             NaN   PXL_20240214_171837365_60cm_F2  \n",
       "6           80.53             NaN  PXL_20240214_171937537_100cm_F3  \n",
       "7           90.72             NaN   PXL_20240214_171953310_80cm_F3  \n",
       "8          114.42             NaN  PXL_20240214_172005738_100cm_F3  \n",
       "9          142.97             NaN  PXL_20240214_172351335_100cm_F5  "
      ]
     },
     "execution_count": 30,
     "metadata": {},
     "output_type": "execute_result"
    }
   ],
   "source": [
    "df1"
   ]
  },
  {
   "cell_type": "code",
   "execution_count": 32,
   "metadata": {},
   "outputs": [],
   "source": [
    "df[\"name\"] = df[\"images\"].str.split(\"_.jpg\").str[0]"
   ]
  },
  {
   "cell_type": "code",
   "execution_count": 34,
   "metadata": {},
   "outputs": [],
   "source": [
    "df2 = df.merge(df1, on=\"name\")"
   ]
  },
  {
   "cell_type": "code",
   "execution_count": 40,
   "metadata": {},
   "outputs": [
    {
     "data": {
      "text/plain": [
       "([<matplotlib.axis.XTick at 0x175090df0>,\n",
       "  <matplotlib.axis.XTick at 0x175090a00>],\n",
       " [Text(1, 0, 'FloralArea Algorithm'), Text(2, 0, 'ImageJ')])"
      ]
     },
     "execution_count": 40,
     "metadata": {},
     "output_type": "execute_result"
    },
    {
     "data": {
      "image/png": "[encoded data removed]",
      "text/plain": [
       "<Figure size 640x480 with 1 Axes>"
      ]
     },
     "metadata": {},
     "output_type": "display_data"
    }
   ],
   "source": [
    "df2[[\"time\", \"measuring_time\"]].boxplot()\n",
    "plt.title(\"Time taken to estimate area of flowers\")\n",
    "plt.ylabel(\"Time (s)\")\n",
    "plt.xticks([1, 2], [\"FloralArea Algorithm\", \"ImageJ\"])\n",
    "#df2[[\"time\", \"measuring_time\"]].plot(kind=\"bar\")"
   ]
  },
  {
   "cell_type": "code",
   "execution_count": 41,
   "metadata": {},
   "outputs": [
    {
     "data": {
      "text/html": [
       "<div>\n",
       "<style scoped>\n",
       "    .dataframe tbody tr th:only-of-type {\n",
       "        vertical-align: middle;\n",
       "    }\n",
       "\n",
       "    .dataframe tbody tr th {\n",
       "        vertical-align: top;\n",
       "    }\n",
       "\n",
       "    .dataframe thead th {\n",
       "        text-align: right;\n",
       "    }\n",
       "</style>\n",
       "<table border=\"1\" class=\"dataframe\">\n",
       "  <thead>\n",
       "    <tr style=\"text-align: right;\">\n",
       "      <th></th>\n",
       "      <th>time</th>\n",
       "      <th>measuring_time</th>\n",
       "    </tr>\n",
       "  </thead>\n",
       "  <tbody>\n",
       "    <tr>\n",
       "      <th>count</th>\n",
       "      <td>10.000000</td>\n",
       "      <td>10.000000</td>\n",
       "    </tr>\n",
       "    <tr>\n",
       "      <th>mean</th>\n",
       "      <td>1.650513</td>\n",
       "      <td>232.371000</td>\n",
       "    </tr>\n",
       "    <tr>\n",
       "      <th>std</th>\n",
       "      <td>0.146982</td>\n",
       "      <td>113.107935</td>\n",
       "    </tr>\n",
       "    <tr>\n",
       "      <th>min</th>\n",
       "      <td>1.560904</td>\n",
       "      <td>80.530000</td>\n",
       "    </tr>\n",
       "    <tr>\n",
       "      <th>25%</th>\n",
       "      <td>1.577008</td>\n",
       "      <td>121.557500</td>\n",
       "    </tr>\n",
       "    <tr>\n",
       "      <th>50%</th>\n",
       "      <td>1.605152</td>\n",
       "      <td>282.020000</td>\n",
       "    </tr>\n",
       "    <tr>\n",
       "      <th>75%</th>\n",
       "      <td>1.654696</td>\n",
       "      <td>301.807500</td>\n",
       "    </tr>\n",
       "    <tr>\n",
       "      <th>max</th>\n",
       "      <td>2.054909</td>\n",
       "      <td>379.540000</td>\n",
       "    </tr>\n",
       "  </tbody>\n",
       "</table>\n",
       "</div>"
      ],
      "text/plain": [
       "            time  measuring_time\n",
       "count  10.000000       10.000000\n",
       "mean    1.650513      232.371000\n",
       "std     0.146982      113.107935\n",
       "min     1.560904       80.530000\n",
       "25%     1.577008      121.557500\n",
       "50%     1.605152      282.020000\n",
       "75%     1.654696      301.807500\n",
       "max     2.054909      379.540000"
      ]
     },
     "execution_count": 41,
     "metadata": {},
     "output_type": "execute_result"
    }
   ],
   "source": [
    "df2[[\"time\", \"measuring_time\"]].describe()"
   ]
  },
  {
   "cell_type": "code",
   "execution_count": 44,
   "metadata": {},
   "outputs": [
    {
     "data": {
      "text/plain": [
       "1.6505133628845214"
      ]
     },
     "execution_count": 44,
     "metadata": {},
     "output_type": "execute_result"
    }
   ],
   "source": [
    "df2[\"time\"].mean()"
   ]
  },
  {
   "cell_type": "code",
   "execution_count": 45,
   "metadata": {},
   "outputs": [
    {
     "data": {
      "text/plain": [
       "232.371"
      ]
     },
     "execution_count": 45,
     "metadata": {},
     "output_type": "execute_result"
    }
   ],
   "source": [
    "df2[\"measuring_time\"].mean()"
   ]
  },
  {
   "cell_type": "code",
   "execution_count": 46,
   "metadata": {},
   "outputs": [
    {
     "data": {
      "text/plain": [
       "16.505133628845215"
      ]
     },
     "execution_count": 46,
     "metadata": {},
     "output_type": "execute_result"
    }
   ],
   "source": [
    "df2[\"time\"].sum()"
   ]
  },
  {
   "cell_type": "code",
   "execution_count": 50,
   "metadata": {},
   "outputs": [
    {
     "data": {
      "text/plain": [
       "38.728500000000004"
      ]
     },
     "execution_count": 50,
     "metadata": {},
     "output_type": "execute_result"
    }
   ],
   "source": [
    "df2[\"measuring_time\"].sum()/60"
   ]
  },
  {
   "cell_type": "code",
   "execution_count": null,
   "metadata": {},
   "outputs": [],
   "source": []
  }
 ],
 "metadata": {
  "kernelspec": {
   "display_name": "venv",
   "language": "python",
   "name": "python3"
  },
  "language_info": {
   "codemirror_mode": {
    "name": "ipython",
    "version": 3
   },
   "file_extension": ".py",
   "mimetype": "text/x-python",
   "name": "python",
   "nbconvert_exporter": "python",
   "pygments_lexer": "ipython3",
   "version": "3.9.6"
  }
 },
 "nbformat": 4,
 "nbformat_minor": 2
}
