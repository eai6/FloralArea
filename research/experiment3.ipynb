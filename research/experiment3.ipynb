{
 "cells": [
  {
   "cell_type": "code",
   "execution_count": 1,
   "metadata": {},
   "outputs": [
    {
     "name": "stderr",
     "output_type": "stream",
     "text": [
      "/Users/edwardamoah/Documents/GitHub/FloralArea/venv/lib/python3.9/site-packages/urllib3/__init__.py:35: NotOpenSSLWarning: urllib3 v2 only supports OpenSSL 1.1.1+, currently the 'ssl' module is compiled with 'LibreSSL 2.8.3'. See: https://github.com/urllib3/urllib3/issues/3020\n",
      "  warnings.warn(\n"
     ]
    }
   ],
   "source": [
    "import requests\n",
    "import pandas as pd\n",
    "import numpy as np\n",
    "import os\n",
    "import matplotlib.pyplot as plt"
   ]
  },
  {
   "cell_type": "code",
   "execution_count": 2,
   "metadata": {},
   "outputs": [],
   "source": [
    "files = os.listdir('/Users/edwardamoah/Documents/GitHub/FloralArea/research/data/evaluation_images_experiment_1')"
   ]
  },
  {
   "cell_type": "code",
   "execution_count": 3,
   "metadata": {},
   "outputs": [],
   "source": [
    "files = ['/Users/edwardamoah/Documents/GitHub/FloralArea/research/data/evaluation_images_experiment_1/' + file for file in files]"
   ]
  },
  {
   "cell_type": "code",
   "execution_count": 7,
   "metadata": {},
   "outputs": [
    {
     "name": "stdout",
     "output_type": "stream",
     "text": [
      "/Users/edwardamoah/Documents/GitHub/FloralArea/research/data/evaluation_images_experiment_1/PXL_20240214_172530114_80cm_F6_.jpg\n",
      "/Users/edwardamoah/Documents/GitHub/FloralArea/research/data/evaluation_images_experiment_1/PXL_20240214_173554009_80cm_F11_.jpg\n",
      "/Users/edwardamoah/Documents/GitHub/FloralArea/research/data/evaluation_images_experiment_1/PXL_20240214_175708911_100cm_F23_.jpg\n",
      "/Users/edwardamoah/Documents/GitHub/FloralArea/research/data/evaluation_images_experiment_1/PXL_20240214_175352365_100cm_F21_.jpg\n",
      "/Users/edwardamoah/Documents/GitHub/FloralArea/research/data/evaluation_images_experiment_1/PXL_20240214_174000188_80cm_F13_.jpg\n",
      "/Users/edwardamoah/Documents/GitHub/FloralArea/research/data/evaluation_images_experiment_1/PXL_20240214_175405036_80cm_F21_.jpg\n",
      "/Users/edwardamoah/Documents/GitHub/FloralArea/research/data/evaluation_images_experiment_1/PXL_20240214_175033319_60cm_F18_.jpg\n",
      "/Users/edwardamoah/Documents/GitHub/FloralArea/research/data/evaluation_images_experiment_1/PXL_20240214_173904525_100cm_F13_.jpg\n",
      "/Users/edwardamoah/Documents/GitHub/FloralArea/research/data/evaluation_images_experiment_1/PXL_20240214_173731980_100cm_F12_.jpg\n",
      "/Users/edwardamoah/Documents/GitHub/FloralArea/research/data/evaluation_images_experiment_1/PXL_20240214_172130671_60cm_F4_.jpg\n",
      "/Users/edwardamoah/Documents/GitHub/FloralArea/research/data/evaluation_images_experiment_1/PXL_20240214_174053319_60cm_F13_.jpg\n",
      "/Users/edwardamoah/Documents/GitHub/FloralArea/research/data/evaluation_images_experiment_1/PXL_20240214_174619635_100cm_F15_.jpg\n",
      "/Users/edwardamoah/Documents/GitHub/FloralArea/research/data/evaluation_images_experiment_1/PXL_20240214_175016038_100cm_F18_.jpg\n",
      "/Users/edwardamoah/Documents/GitHub/FloralArea/research/data/evaluation_images_experiment_1/PXL_20240214_175122307_80cm_F19_.jpg\n",
      "/Users/edwardamoah/Documents/GitHub/FloralArea/research/data/evaluation_images_experiment_1/PXL_20240214_174857541_100cm_F17_.jpg\n",
      "/Users/edwardamoah/Documents/GitHub/FloralArea/research/data/evaluation_images_experiment_1/PXL_20240214_172902391_100cm_F7_.jpg\n",
      "/Users/edwardamoah/Documents/GitHub/FloralArea/research/data/evaluation_images_experiment_1/PXL_20240214_171637048_100cm_F1_.jpg\n",
      "/Users/edwardamoah/Documents/GitHub/FloralArea/research/data/evaluation_images_experiment_1/PXL_20240214_172812015_60cm_F7_.jpg\n",
      "/Users/edwardamoah/Documents/GitHub/FloralArea/research/data/evaluation_images_experiment_1/PXL_20240214_172005738_100cm_F3_.jpg\n",
      "/Users/edwardamoah/Documents/GitHub/FloralArea/research/data/evaluation_images_experiment_1/PXL_20240214_171819047_100cm_F2_.jpg\n",
      "/Users/edwardamoah/Documents/GitHub/FloralArea/research/data/evaluation_images_experiment_1/PXL_20240214_175600353_100cm_F22_.jpg\n",
      "/Users/edwardamoah/Documents/GitHub/FloralArea/research/data/evaluation_images_experiment_1/PXL_20240214_173425086_80cm_F10_.jpg\n",
      "/Users/edwardamoah/Documents/GitHub/FloralArea/research/data/evaluation_images_experiment_1/PXL_20240214_175608164_80cm_F22_.jpg\n",
      "/Users/edwardamoah/Documents/GitHub/FloralArea/research/data/evaluation_images_experiment_1/PXL_20240214_174424831_90cm_F14_.jpg\n",
      "/Users/edwardamoah/Documents/GitHub/FloralArea/research/data/evaluation_images_experiment_1/PXL_20240214_174325426_100cm_F14_.jpg\n",
      "/Users/edwardamoah/Documents/GitHub/FloralArea/research/data/evaluation_images_experiment_1/PXL_20240214_171937537_100cm_F3_.jpg\n",
      "/Users/edwardamoah/Documents/GitHub/FloralArea/research/data/evaluation_images_experiment_1/PXL_20240214_172801012_80cm_F7_.jpg\n",
      "/Users/edwardamoah/Documents/GitHub/FloralArea/research/data/evaluation_images_experiment_1/PXL_20240214_173542045_100cm_F11_.jpg\n",
      "/Users/edwardamoah/Documents/GitHub/FloralArea/research/data/evaluation_images_experiment_1/PXL_20240214_174810162_60cm_F16_.jpg\n",
      "/Users/edwardamoah/Documents/GitHub/FloralArea/research/data/evaluation_images_experiment_1/PXL_20240214_171827242_100cm_F2_.jpg\n",
      "/Users/edwardamoah/Documents/GitHub/FloralArea/research/data/evaluation_images_experiment_1/PXL_20240214_173058624_100cm_F8_.jpg\n",
      "/Users/edwardamoah/Documents/GitHub/FloralArea/research/data/evaluation_images_experiment_1/PXL_20240214_173256770_60cm_F9_.jpg\n",
      "/Users/edwardamoah/Documents/GitHub/FloralArea/research/data/evaluation_images_experiment_1/PXL_20240214_175022538_80cm_F18_.jpg\n",
      "/Users/edwardamoah/Documents/GitHub/FloralArea/research/data/evaluation_images_experiment_1/PXL_20240214_173112853_80cm_F8_.jpg\n",
      "/Users/edwardamoah/Documents/GitHub/FloralArea/research/data/evaluation_images_experiment_1/PXL_20240214_173605233_60cm_F11_.jpg\n",
      "/Users/edwardamoah/Documents/GitHub/FloralArea/research/data/evaluation_images_experiment_1/PXL_20240214_173124719_60cm_F8_.jpg\n",
      "/Users/edwardamoah/Documents/GitHub/FloralArea/research/data/evaluation_images_experiment_1/PXL_20240214_174440129_80cm_F14_.jpg\n",
      "/Users/edwardamoah/Documents/GitHub/FloralArea/research/data/evaluation_images_experiment_1/PXL_20240214_173951011_90cm_F13_.jpg\n",
      "/Users/edwardamoah/Documents/GitHub/FloralArea/research/data/evaluation_images_experiment_1/PXL_20240214_172851466_80cm_F7_.jpg\n",
      "/Users/edwardamoah/Documents/GitHub/FloralArea/research/data/evaluation_images_experiment_1/PXL_20240214_175112414_100cm_F19_.jpg\n",
      "/Users/edwardamoah/Documents/GitHub/FloralArea/research/data/evaluation_images_experiment_1/PXL_20240214_173235450_100cm_F9_.jpg\n",
      "/Users/edwardamoah/Documents/GitHub/FloralArea/research/data/evaluation_images_experiment_1/PXL_20240214_172844073_60cm_F7_.jpg\n",
      "/Users/edwardamoah/Documents/GitHub/FloralArea/research/data/evaluation_images_experiment_1/PXL_20240214_172104621_100cm_F4_.jpg\n",
      "/Users/edwardamoah/Documents/GitHub/FloralArea/research/data/evaluation_images_experiment_1/PXL_20240214_172542241_60cm_F6_.jpg\n",
      "/Users/edwardamoah/Documents/GitHub/FloralArea/research/data/evaluation_images_experiment_1/PXL_20240214_174540998_90cm_F15_.jpg\n",
      "/Users/edwardamoah/Documents/GitHub/FloralArea/research/data/evaluation_images_experiment_1/PXL_20240214_173743909_80cm_F12_.jpg\n",
      "/Users/edwardamoah/Documents/GitHub/FloralArea/research/data/evaluation_images_experiment_1/PXL_20240214_175256173_60cm_F20_.jpg\n",
      "/Users/edwardamoah/Documents/GitHub/FloralArea/research/data/evaluation_images_experiment_1/PXL_20240214_175233333_100cm_F20_.jpg\n",
      "/Users/edwardamoah/Documents/GitHub/FloralArea/research/data/evaluation_images_experiment_1/PXL_20240214_175618723_60cm_F22_.jpg\n",
      "/Users/edwardamoah/Documents/GitHub/FloralArea/research/data/evaluation_images_experiment_1/PXL_20240214_174906125_80cm_F17_.jpg\n",
      "/Users/edwardamoah/Documents/GitHub/FloralArea/research/data/evaluation_images_experiment_1/PXL_20240214_175242905_80cm_F20_.jpg\n",
      "/Users/edwardamoah/Documents/GitHub/FloralArea/research/data/evaluation_images_experiment_1/PXL_20240214_171837365_60cm_F2_.jpg\n",
      "/Users/edwardamoah/Documents/GitHub/FloralArea/research/data/evaluation_images_experiment_1/PXL_20240214_174443010_80cm_F14_.jpg\n",
      "/Users/edwardamoah/Documents/GitHub/FloralArea/research/data/evaluation_images_experiment_1/PXL_20240214_171953310_80cm_F3_.jpg\n",
      "/Users/edwardamoah/Documents/GitHub/FloralArea/research/data/evaluation_images_experiment_1/PXL_20240214_173410846_100cm_F10_.jpg\n",
      "/Users/edwardamoah/Documents/GitHub/FloralArea/research/data/evaluation_images_experiment_1/PXL_20240214_172351335_100cm_F5_.jpg\n",
      "/Users/edwardamoah/Documents/GitHub/FloralArea/research/data/evaluation_images_experiment_1/PXL_20240214_173246124_80cm_F9_.jpg\n",
      "/Users/edwardamoah/Documents/GitHub/FloralArea/research/data/evaluation_images_experiment_1/PXL_20240214_171724834_60cm_F1_.jpg\n",
      "/Users/edwardamoah/Documents/GitHub/FloralArea/research/data/evaluation_images_experiment_1/PXL_20240214_175447286_60cm_F21_.jpg\n",
      "/Users/edwardamoah/Documents/GitHub/FloralArea/research/data/evaluation_images_experiment_1/PXL_20240214_175542573_100cm_F22_.jpg\n",
      "/Users/edwardamoah/Documents/GitHub/FloralArea/research/data/evaluation_images_experiment_1/PXL_20240214_172835282_60cm_F7_.jpg\n",
      "/Users/edwardamoah/Documents/GitHub/FloralArea/research/data/evaluation_images_experiment_1/PXL_20240214_174605604_80cm_F15_.jpg\n",
      "/Users/edwardamoah/Documents/GitHub/FloralArea/research/data/evaluation_images_experiment_1/PXL_20240214_173800905_60cm_F12_.jpg\n",
      "/Users/edwardamoah/Documents/GitHub/FloralArea/research/data/evaluation_images_experiment_1/PXL_20240214_175143253_60cm_F19_.jpg\n",
      "/Users/edwardamoah/Documents/GitHub/FloralArea/research/data/evaluation_images_experiment_1/PXL_20240214_171717068_80cm_F1_.jpg\n",
      "/Users/edwardamoah/Documents/GitHub/FloralArea/research/data/evaluation_images_experiment_1/PXL_20240214_174916372_60cm_F17_.jpg\n",
      "/Users/edwardamoah/Documents/GitHub/FloralArea/research/data/evaluation_images_experiment_1/PXL_20240214_173433388_60cm_F10_.jpg\n",
      "/Users/edwardamoah/Documents/GitHub/FloralArea/research/data/evaluation_images_experiment_1/PXL_20240214_174751371_80cm_F16_.jpg\n",
      "/Users/edwardamoah/Documents/GitHub/FloralArea/research/data/evaluation_images_experiment_1/PXL_20240214_172404427_60cm_F5_.jpg\n",
      "/Users/edwardamoah/Documents/GitHub/FloralArea/research/data/evaluation_images_experiment_1/PXL_20240214_172735080_100cm_F7_.jpg\n",
      "/Users/edwardamoah/Documents/GitHub/FloralArea/research/data/evaluation_images_experiment_1/PXL_20240214_172357833_80cm_F5_.jpg\n",
      "/Users/edwardamoah/Documents/GitHub/FloralArea/research/data/evaluation_images_experiment_1/PXL_20240214_173607901_60cm_F11_.jpg\n",
      "/Users/edwardamoah/Documents/GitHub/FloralArea/research/data/evaluation_images_experiment_1/PXL_20240214_174741393_100cm_F16_.jpg\n",
      "/Users/edwardamoah/Documents/GitHub/FloralArea/research/data/evaluation_images_experiment_1/PXL_20240214_172516412_100cm_F6_.jpg\n",
      "/Users/edwardamoah/Documents/GitHub/FloralArea/research/data/evaluation_images_experiment_1/PXL_20240214_172119010_100cm_F4_.jpg\n"
     ]
    }
   ],
   "source": [
    "area = []\n",
    "mask = []\n",
    "filesnames = []\n",
    "for file in files:\n",
    "    try:\n",
    "        print(file)\n",
    "        url = 'http://localhost:8000/estimate_area/flower/0.25'\n",
    "        file = {'uploaded_file': open(file, 'rb')}\n",
    "        response = requests.post(url, files=file)\n",
    "        response = response.json()\n",
    "        area.append(response['area'])\n",
    "        mask.append(response['mask'])\n",
    "        filesnames.append(file)\n",
    "    except:\n",
    "        area.append(np.nan)\n",
    "        mask.append(np.nan)\n",
    "        filesnames.append(file)\n",
    "    \n",
    "    #print(response.json())"
   ]
  },
  {
   "cell_type": "code",
   "execution_count": 11,
   "metadata": {},
   "outputs": [],
   "source": [
    "filename= [file.split('/')[-1] for file in files]\n",
    "df = pd.DataFrame({'area': area, 'mask': mask, 'images': filename})"
   ]
  },
  {
   "cell_type": "code",
   "execution_count": 14,
   "metadata": {},
   "outputs": [],
   "source": [
    "df.dropna(inplace=True)"
   ]
  },
  {
   "cell_type": "code",
   "execution_count": 15,
   "metadata": {},
   "outputs": [],
   "source": [
    "df1 = pd.read_csv('/Users/edwardamoah/Documents/GitHub/FloralArea/research/data/floralarea_experiment_1 - floralarea.csv')"
   ]
  },
  {
   "cell_type": "code",
   "execution_count": 16,
   "metadata": {},
   "outputs": [],
   "source": [
    "df2 = df1[['images', 'flower_number','distance', 'flower_color','imagej_area', 'morphology']].merge(df, on='images')"
   ]
  },
  {
   "cell_type": "code",
   "execution_count": 18,
   "metadata": {},
   "outputs": [],
   "source": [
    "df2.to_csv('/Users/edwardamoah/Documents/GitHub/FloralArea/research/Evaluation/floralarea_25.csv', index=False)"
   ]
  },
  {
   "cell_type": "code",
   "execution_count": 43,
   "metadata": {},
   "outputs": [],
   "source": [
    "def getFlowerNumber(filename):\n",
    "    return filename.split('_')[-2]"
   ]
  },
  {
   "cell_type": "code",
   "execution_count": 45,
   "metadata": {},
   "outputs": [],
   "source": [
    "df['flower_number'] = df['images'].apply(lambda x: getFlowerNumber(x))"
   ]
  },
  {
   "cell_type": "code",
   "execution_count": 51,
   "metadata": {},
   "outputs": [],
   "source": [
    "def getDistance(filename):\n",
    "    return filename.split('_')[-3]"
   ]
  },
  {
   "cell_type": "code",
   "execution_count": 52,
   "metadata": {},
   "outputs": [],
   "source": [
    "df['distance'] = df['images'].apply(lambda x: getDistance(x))"
   ]
  },
  {
   "cell_type": "code",
   "execution_count": 61,
   "metadata": {},
   "outputs": [
    {
     "data": {
      "text/plain": [
       "flower_number  distance\n",
       "F1             100cm        5.291555\n",
       "               60cm         7.493321\n",
       "               80cm         5.877161\n",
       "F10            100cm        3.009569\n",
       "               60cm         3.874344\n",
       "                             ...    \n",
       "F8             60cm         1.102041\n",
       "               80cm         0.939385\n",
       "F9             100cm        8.136929\n",
       "               60cm        10.905120\n",
       "               80cm         9.733239\n",
       "Name: area, Length: 65, dtype: float64"
      ]
     },
     "execution_count": 61,
     "metadata": {},
     "output_type": "execute_result"
    }
   ],
   "source": [
    "df.groupby(['flower_number', \"distance\"])[\"area\"].mean()"
   ]
  },
  {
   "cell_type": "code",
   "execution_count": 74,
   "metadata": {},
   "outputs": [
    {
     "data": {
      "text/plain": [
       "Text(0.5, 1.0, 'Standard Deviation of Floral Area from different distance')"
      ]
     },
     "execution_count": 74,
     "metadata": {},
     "output_type": "execute_result"
    },
    {
     "data": {
      "image/png": "[encoded data removed]",
      "text/plain": [
       "<Figure size 640x480 with 1 Axes>"
      ]
     },
     "metadata": {},
     "output_type": "display_data"
    }
   ],
   "source": [
    "df.groupby(['flower_number'])[\"area\"].std().plot(kind='bar')\n",
    "plt.xlabel('Flower Number')\n",
    "plt.ylabel('Standard Deviation of Area')\n",
    "plt.title('Standard Deviation of Floral Area from different distance')"
   ]
  },
  {
   "cell_type": "code",
   "execution_count": 72,
   "metadata": {},
   "outputs": [
    {
     "data": {
      "text/plain": [
       "1.9490675690307795"
      ]
     },
     "execution_count": 72,
     "metadata": {},
     "output_type": "execute_result"
    }
   ],
   "source": [
    "np.mean(area_std_list)"
   ]
  },
  {
   "cell_type": "code",
   "execution_count": null,
   "metadata": {},
   "outputs": [],
   "source": []
  }
 ],
 "metadata": {
  "kernelspec": {
   "display_name": "venv",
   "language": "python",
   "name": "python3"
  },
  "language_info": {
   "codemirror_mode": {
    "name": "ipython",
    "version": 3
   },
   "file_extension": ".py",
   "mimetype": "text/x-python",
   "name": "python",
   "nbconvert_exporter": "python",
   "pygments_lexer": "ipython3",
   "version": "3.9.6"
  }
 },
 "nbformat": 4,
 "nbformat_minor": 2
}
